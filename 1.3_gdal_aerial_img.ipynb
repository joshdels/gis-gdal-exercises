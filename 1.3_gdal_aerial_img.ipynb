{
 "cells": [
  {
   "cell_type": "markdown",
   "id": "9eb2e3ea",
   "metadata": {},
   "source": [
    "Mergin 2 virtual datas"
   ]
  },
  {
   "cell_type": "code",
   "execution_count": 10,
   "id": "91e4458d",
   "metadata": {},
   "outputs": [
    {
     "data": {
      "text/plain": [
       "'D:\\\\2. AREAS\\\\JUPYTER\\\\gdal-tools\\\\naip'"
      ]
     },
     "execution_count": 10,
     "metadata": {},
     "output_type": "execute_result"
    }
   ],
   "source": [
    "import os\n",
    "# Change notebook working directory\n",
    "os.chdir(r\"D:\\2. AREAS\\JUPYTER\\gdal-tools\\naip\")\n",
    "os.getcwd()   # Shows current working directory"
   ]
  },
  {
   "cell_type": "code",
   "execution_count": 2,
   "id": "e8eb14a7",
   "metadata": {},
   "outputs": [],
   "source": [
    "!dir /b *.jp2 > filelist.txt"
   ]
  },
  {
   "cell_type": "code",
   "execution_count": 11,
   "id": "def3029a",
   "metadata": {},
   "outputs": [
    {
     "name": "stdout",
     "output_type": "stream",
     "text": [
      "0...10...20...30...40...50...60...70...80...90...100 - done.\n"
     ]
    },
    {
     "name": "stderr",
     "output_type": "stream",
     "text": [
      "Warning 1: Can't open output_1_1.jp2. Skipping it\n",
      "Warning 1: Can't open output_1_2.jp2. Skipping it\n",
      "Warning 1: Can't open output_1_3.jp2. Skipping it\n",
      "Warning 1: Can't open output_1_4.jp2. Skipping it\n",
      "Warning 1: Can't open output_1_5.jp2. Skipping it\n",
      "Warning 1: Can't open output_1_6.jp2. Skipping it\n",
      "Warning 1: Can't open output_1_7.jp2. Skipping it\n",
      "Warning 1: Can't open output_1_8.jp2. Skipping it\n",
      "Warning 1: Can't open output_2_1.jp2. Skipping it\n",
      "Warning 1: Can't open output_2_2.jp2. Skipping it\n",
      "Warning 1: Can't open output_2_3.jp2. Skipping it\n",
      "Warning 1: Can't open output_2_4.jp2. Skipping it\n",
      "Warning 1: Can't open output_2_5.jp2. Skipping it\n",
      "Warning 1: Can't open output_2_6.jp2. Skipping it\n",
      "Warning 1: Can't open output_2_7.jp2. Skipping it\n",
      "Warning 1: Can't open output_2_8.jp2. Skipping it\n",
      "Warning 1: Can't open output_3_1.jp2. Skipping it\n",
      "Warning 1: Can't open output_3_2.jp2. Skipping it\n",
      "Warning 1: Can't open output_3_3.jp2. Skipping it\n",
      "Warning 1: Can't open output_3_4.jp2. Skipping it\n",
      "Warning 1: Can't open output_3_5.jp2. Skipping it\n",
      "Warning 1: Can't open output_3_6.jp2. Skipping it\n",
      "Warning 1: Can't open output_3_7.jp2. Skipping it\n",
      "Warning 1: Can't open output_3_8.jp2. Skipping it\n",
      "Warning 1: Can't open output_4_1.jp2. Skipping it\n",
      "Warning 1: Can't open output_4_2.jp2. Skipping it\n",
      "Warning 1: Can't open output_4_3.jp2. Skipping it\n",
      "Warning 1: Can't open output_4_4.jp2. Skipping it\n",
      "Warning 1: Can't open output_4_5.jp2. Skipping it\n",
      "Warning 1: Can't open output_4_6.jp2. Skipping it\n",
      "Warning 1: Can't open output_4_7.jp2. Skipping it\n",
      "Warning 1: Can't open output_4_8.jp2. Skipping it\n",
      "Warning 1: Can't open output_5_1.jp2. Skipping it\n",
      "Warning 1: Can't open output_5_2.jp2. Skipping it\n",
      "Warning 1: Can't open output_5_3.jp2. Skipping it\n",
      "Warning 1: Can't open output_5_4.jp2. Skipping it\n",
      "Warning 1: Can't open output_5_5.jp2. Skipping it\n",
      "Warning 1: Can't open output_5_6.jp2. Skipping it\n",
      "Warning 1: Can't open output_5_7.jp2. Skipping it\n",
      "Warning 1: Can't open output_5_8.jp2. Skipping it\n",
      "Warning 1: Can't open output_6_1.jp2. Skipping it\n",
      "Warning 1: Can't open output_6_2.jp2. Skipping it\n",
      "Warning 1: Can't open output_6_3.jp2. Skipping it\n",
      "Warning 1: Can't open output_6_4.jp2. Skipping it\n",
      "Warning 1: Can't open output_6_5.jp2. Skipping it\n",
      "Warning 1: Can't open output_6_6.jp2. Skipping it\n",
      "Warning 1: Can't open output_6_7.jp2. Skipping it\n",
      "Warning 1: Can't open output_6_8.jp2. Skipping it\n",
      "Warning 1: Can't open output_7_1.jp2. Skipping it\n",
      "Warning 1: Can't open output_7_2.jp2. Skipping it\n",
      "Warning 1: Can't open output_7_3.jp2. Skipping it\n",
      "Warning 1: Can't open output_7_4.jp2. Skipping it\n",
      "Warning 1: Can't open output_7_5.jp2. Skipping it\n",
      "Warning 1: Can't open output_7_6.jp2. Skipping it\n",
      "Warning 1: Can't open output_7_7.jp2. Skipping it\n",
      "Warning 1: Can't open output_7_8.jp2. Skipping it\n",
      "Warning 1: Can't open output_8_1.jp2. Skipping it\n",
      "Warning 1: Can't open output_8_2.jp2. Skipping it\n",
      "Warning 1: Can't open output_8_3.jp2. Skipping it\n",
      "Warning 1: Can't open output_8_4.jp2. Skipping it\n",
      "Warning 1: Can't open output_8_5.jp2. Skipping it\n",
      "Warning 1: Can't open output_8_6.jp2. Skipping it\n",
      "Warning 1: Can't open output_8_7.jp2. Skipping it\n",
      "Warning 1: Can't open output_8_8.jp2. Skipping it\n"
     ]
    }
   ],
   "source": [
    "!gdalbuildvrt -input_file_list filelist.txt naip1.vrt"
   ]
  },
  {
   "cell_type": "code",
   "execution_count": 4,
   "id": "02cd9316",
   "metadata": {},
   "outputs": [
    {
     "name": "stderr",
     "output_type": "stream",
     "text": [
      "ERROR 4: naip.vrt: No such file or directory\n"
     ]
    }
   ],
   "source": [
    "!gdal_translate -b 1 -b 2 -b 3 -of JPEG -outsize 2% 2% naip.vrt naip_preview.jpg "
   ]
  },
  {
   "cell_type": "code",
   "execution_count": 7,
   "id": "f2b370d2",
   "metadata": {},
   "outputs": [
    {
     "name": "stdout",
     "output_type": "stream",
     "text": [
      "Microsoft Windows [Version 10.0.19045.6216]\n",
      "(c) Microsoft Corporation. All rights reserved.\n",
      "\n",
      "(webgisbackend) D:\\2. AREAS\\JUPYTER\\gdal-tools\\naip>gdalinfo --formats | findstr JP2\n",
      "\n",
      "(webgisbackend) D:\\2. AREAS\\JUPYTER\\gdal-tools\\naip>"
     ]
    }
   ],
   "source": [
    "%%cmd\n",
    "gdalinfo --formats | findstr JP2"
   ]
  },
  {
   "cell_type": "code",
   "execution_count": 1,
   "id": "e8df8266",
   "metadata": {},
   "outputs": [
    {
     "name": "stdout",
     "output_type": "stream",
     "text": [
      "Supported Formats: (ro:read-only, rw:read-write, +:update, v:virtual-I/O s:subdatasets)\n",
      "  VRT -raster,multidimensional raster- (rw+v): Virtual Raster (*.vrt)\n",
      "  DERIVED -raster- (ro): Derived datasets using VRT pixel functions\n",
      "  GTI -raster- (rov): GDAL Raster Tile Index (*.gti.gpkg, *.gti.fgb, *.gti)\n",
      "  SNAP_TIFF -raster- (rov): Sentinel Application Processing GeoTIFF\n",
      "  GTiff -raster- (rw+vs): GeoTIFF (*.tif, *.tiff)\n",
      "  COG -raster- (wv): Cloud optimized GeoTIFF generator (*.tif, *.tiff)\n",
      "  NITF -raster- (rw+vs): National Imagery Transmission Format (*.ntf)\n",
      "  RPFTOC -raster- (rovs): Raster Product Format TOC format (*.toc)\n",
      "  ECRGTOC -raster- (rovs): ECRG TOC format (*.xml)\n",
      "  HFA -raster- (rw+v): Erdas Imagine Images (.img) (*.img)\n",
      "  SAR_CEOS -raster- (rov): CEOS SAR Image\n",
      "  CEOS -raster- (rov): CEOS Image\n",
      "  JAXAPALSAR -raster- (rov): JAXA PALSAR Product Reader (Level 1.1/1.5)\n",
      "  GFF -raster- (rov): Ground-based SAR Applications Testbed File Format (.gff) (*.gff)\n",
      "  ELAS -raster- (rw+v): ELAS\n",
      "  ESRIC -raster- (rov): Esri Compact Cache (*.json, *.tpkx)\n",
      "  AIG -raster- (rov): Arc/Info Binary Grid\n",
      "  AAIGrid -raster- (rwv): Arc/Info ASCII Grid (*.asc)\n",
      "  GRASSASCIIGrid -raster- (rov): GRASS ASCII Grid\n",
      "  ISG -raster- (rov): International Service for the Geoid (*.isg)\n",
      "  SDTS -raster- (rov): SDTS Raster (*.ddf)\n",
      "  DTED -raster- (rwv): DTED Elevation Raster (*.dt0, *.dt1, *.dt2)\n",
      "  PNG -raster- (rwv): Portable Network Graphics (*.png)\n",
      "  JPEG -raster- (rwv): JPEG JFIF (*.jpg, *.jpeg)\n",
      "  MEM -raster,multidimensional raster- (rw+): In Memory Raster\n",
      "  JDEM -raster- (rov): Japanese DEM (.mem) (*.mem)\n",
      "  GIF -raster- (rwv): Graphics Interchange Format (.gif) (*.gif)\n",
      "  BIGGIF -raster- (rov): Graphics Interchange Format (.gif) (*.gif)\n",
      "  ESAT -raster- (rov): Envisat Image Format (*.n1)\n",
      "  BSB -raster- (rov): Maptech BSB Nautical Charts (*.kap)\n",
      "  XPM -raster- (rwv): X11 PixMap Format (*.xpm)\n",
      "  BMP -raster- (rw+v): MS Windows Device Independent Bitmap (*.bmp)\n",
      "  DIMAP -raster- (rovs): SPOT DIMAP\n",
      "  AirSAR -raster- (rov): AirSAR Polarimetric Image\n",
      "  RS2 -raster- (rovs): RadarSat 2 XML Product\n",
      "  SAFE -raster- (rov): Sentinel-1 SAR SAFE Product\n",
      "  PCIDSK -raster,vector- (rw+v): PCIDSK Database File (*.pix)\n",
      "  PCRaster -raster- (rw+): PCRaster Raster File (*.map)\n",
      "  ILWIS -raster- (rw+v): ILWIS Raster Map (*.mpr, *.mpl)\n",
      "  SGI -raster- (rw+v): SGI Image File Format 1.0 (*.rgb)\n",
      "  SRTMHGT -raster- (rwv): SRTMHGT File Format (*.hgt)\n",
      "  Leveller -raster- (rw+v): Leveller heightfield (*.ter)\n",
      "  Terragen -raster- (rw+v): Terragen heightfield (*.ter)\n",
      "  ISIS3 -raster- (rw+v): USGS Astrogeology ISIS cube (Version 3) (*.lbl, *.cub)\n",
      "  ISIS2 -raster- (rw+v): USGS Astrogeology ISIS cube (Version 2)\n",
      "  PDS -raster- (rov): NASA Planetary Data System\n",
      "  PDS4 -raster,vector- (rw+vs): NASA Planetary Data System 4 (*.xml)\n",
      "  VICAR -raster,vector- (rw+v): MIPL VICAR file\n",
      "  TIL -raster- (rov): EarthWatch .TIL\n",
      "  ERS -raster- (rw+v): ERMapper .ers Labelled (*.ers)\n",
      "  L1B -raster- (rovs): NOAA Polar Orbiter Level 1b Data Set\n",
      "  FIT -raster- (rwv): FIT Image\n",
      "  RMF -raster- (rw+v): Raster Matrix Format (*.rsw)\n",
      "  WCS -raster- (rovs): OGC Web Coverage Service\n",
      "  WMS -raster- (rwvs): OGC Web Map Service\n",
      "  MSGN -raster- (rov): EUMETSAT Archive native (.nat) (*.nat)\n",
      "  RST -raster- (rw+v): Idrisi Raster A.1 (*.rst)\n",
      "  GSAG -raster- (rwv): Golden Software ASCII Grid (.grd) (*.grd)\n",
      "  GSBG -raster- (rw+v): Golden Software Binary Grid (.grd) (*.grd)\n",
      "  GS7BG -raster- (rw+v): Golden Software 7 Binary Grid (.grd) (*.grd)\n",
      "  COSAR -raster- (rov): COSAR Annotated Binary Matrix (TerraSAR-X)\n",
      "  TSX -raster- (rov): TerraSAR-X Product\n",
      "  COASP -raster- (ro): DRDC COASP SAR Processor Raster (*.hdr)\n",
      "  R -raster- (rwv): R Object Data Store (*.rda)\n",
      "  MAP -raster- (rov): OziExplorer .MAP\n",
      "  KMLSUPEROVERLAY -raster- (rwv): Kml Super Overlay (*.kml, *.kmz)\n",
      "  WEBP -raster- (rwv): WEBP (*.webp)\n",
      "  Rasterlite -raster- (rwvs): Rasterlite (*.sqlite)\n",
      "  MBTiles -raster,vector- (rw+v): MBTiles (*.mbtiles)\n",
      "  PLMOSAIC -raster- (ro): Planet Labs Mosaics API\n",
      "  CALS -raster- (rwv): CALS (Type 1) (*.cal, *.ct1)\n",
      "  WMTS -raster- (rwv): OGC Web Map Tile Service\n",
      "  SENTINEL2 -raster- (rovs): Sentinel 2\n",
      "  MRF -raster- (rw+v): Meta Raster Format (*.mrf)\n",
      "  PNM -raster- (rw+v): Portable Pixmap Format (netpbm) (*.pgm, *.ppm, *.pnm)\n",
      "  DOQ1 -raster- (rov): USGS DOQ (Old Style)\n",
      "  DOQ2 -raster- (rov): USGS DOQ (New Style)\n",
      "  PAux -raster- (rw+v): PCI .aux Labelled\n",
      "  MFF -raster- (rw+v): Vexcel MFF Raster (*.hdr)\n",
      "  MFF2 -raster- (rw+): Vexcel MFF2 (HKV) Raster\n",
      "  GSC -raster- (rov): GSC Geogrid\n",
      "  FAST -raster- (rov): EOSAT FAST Format\n",
      "  BT -raster- (rw+v): VTP .bt (Binary Terrain) 1.3 Format (*.bt)\n",
      "  LAN -raster- (rw+v): Erdas .LAN/.GIS\n",
      "  CPG -raster- (rov): Convair PolGASP\n",
      "  NDF -raster- (rov): NLAPS Data Format\n",
      "  EIR -raster- (rov): Erdas Imagine Raw\n",
      "  DIPEx -raster- (rov): DIPEx\n",
      "  LCP -raster- (rwv): FARSITE v.4 Landscape File (.lcp) (*.lcp)\n",
      "  GTX -raster- (rw+v): NOAA Vertical Datum .GTX (*.gtx)\n",
      "  LOSLAS -raster- (rov): NADCON .los/.las Datum Grid Shift\n",
      "  NTv2 -raster- (rw+vs): NTv2 Datum Grid Shift (*.gsb, *.gvb)\n",
      "  CTable2 -raster- (rw+v): CTable2 Datum Grid Shift\n",
      "  ACE2 -raster- (rov): ACE2 (*.ACE2)\n",
      "  SNODAS -raster- (rov): Snow Data Assimilation System (*.hdr)\n",
      "  KRO -raster- (rw+v): KOLOR Raw (*.kro)\n",
      "  ROI_PAC -raster- (rw+v): ROI_PAC raster\n",
      "  RRASTER -raster- (rw+v): R Raster (*.grd)\n",
      "  BYN -raster- (rw+v): Natural Resources Canada's Geoid (*.byn, *.err)\n",
      "  NOAA_B -raster- (rov): NOAA GEOCON/NADCON5 .b format (*.b)\n",
      "  NSIDCbin -raster- (rov): NSIDC Sea Ice Concentrations binary (.bin) (*.bin)\n",
      "  RIK -raster- (rov): Swedish Grid RIK (.rik) (*.rik)\n",
      "  USGSDEM -raster- (rwv): USGS Optional ASCII DEM (and CDED) (*.dem)\n",
      "  GXF -raster- (rov): GeoSoft Grid Exchange Format (*.gxf)\n",
      "  NWT_GRD -raster- (rw+v): Northwood Numeric Grid Format .grd/.tab (*.grd)\n",
      "  NWT_GRC -raster- (rov): Northwood Classified Grid Format .grc/.tab (*.grc)\n",
      "  ADRG -raster- (rw+vs): ARC Digitized Raster Graphics (*.gen)\n",
      "  SRP -raster- (rovs): Standard Raster Product (ASRP/USRP) (*.img)\n",
      "  BLX -raster- (rwv): Magellan topo (.blx) (*.blx)\n",
      "  SAGA -raster- (rw+v): SAGA GIS Binary Grid (.sdat, .sg-grd-z) (*.sdat, *.sg-grd-z)\n",
      "  XYZ -raster- (rwv): ASCII Gridded XYZ (*.xyz)\n",
      "  HF2 -raster- (rwv): HF2/HFZ heightfield raster (*.hf2)\n",
      "  OZI -raster- (rov): OziExplorer Image File\n",
      "  CTG -raster- (rov): USGS LULC Composite Theme Grid\n",
      "  ZMap -raster- (rwv): ZMap Plus Grid (*.dat)\n",
      "  NGSGEOID -raster- (rov): NOAA NGS Geoid Height Grids (*.bin)\n",
      "  IRIS -raster- (rov): IRIS data (.PPI, .CAPPi etc) (*.ppi)\n",
      "  PRF -raster- (rov): Racurs PHOTOMOD PRF (*.prf)\n",
      "  EEDAI -raster- (ros): Earth Engine Data API Image\n",
      "  DAAS -raster- (ro): Airbus DS Intelligence Data As A Service driver\n",
      "  SIGDEM -raster- (rwv): Scaled Integer Gridded DEM .sigdem (*.sigdem)\n",
      "  TGA -raster- (rov): TGA/TARGA Image File Format (*.tga)\n",
      "  OGCAPI -raster,vector- (rov): OGCAPI\n",
      "  STACTA -raster- (rovs): Spatio-Temporal Asset Catalog Tiled Assets (*.json)\n",
      "  STACIT -raster- (rovs): Spatio-Temporal Asset Catalog Items\n",
      "  GPKG -raster,vector- (rw+vs): GeoPackage (*.gpkg, *.gpkg.zip)\n",
      "  OpenFileGDB -raster,vector- (rw+v): ESRI FileGDB (*.gdb)\n",
      "  CAD -raster,vector- (rovs): AutoCAD Driver (*.dwg)\n",
      "  PLSCENES -raster,vector- (ro): Planet Labs Scenes API\n",
      "  NGW -raster,vector- (rw+s): NextGIS Web\n",
      "  GenBin -raster- (rov): Generic Binary (.hdr Labelled)\n",
      "  ENVI -raster- (rw+v): ENVI .hdr Labelled\n",
      "  EHdr -raster- (rw+v): ESRI .hdr Labelled (*.bil)\n",
      "  ISCE -raster- (rw+v): ISCE raster\n",
      "  Zarr -raster,multidimensional raster- (rw+vs): Zarr\n",
      "  HTTP -raster,vector- (ro): HTTP Fetching Wrapper\n"
     ]
    }
   ],
   "source": [
    "!gdalinfo --formats\n"
   ]
  },
  {
   "cell_type": "code",
   "execution_count": 8,
   "id": "e7575c03",
   "metadata": {},
   "outputs": [
    {
     "name": "stdout",
     "output_type": "stream",
     "text": [
      "^C\n"
     ]
    }
   ],
   "source": [
    "!conda install -c conda-forge gdal"
   ]
  },
  {
   "cell_type": "code",
   "execution_count": null,
   "id": "958adf14",
   "metadata": {},
   "outputs": [],
   "source": []
  }
 ],
 "metadata": {
  "kernelspec": {
   "display_name": "webgisbackend",
   "language": "python",
   "name": "python3"
  },
  "language_info": {
   "codemirror_mode": {
    "name": "ipython",
    "version": 3
   },
   "file_extension": ".py",
   "mimetype": "text/x-python",
   "name": "python",
   "nbconvert_exporter": "python",
   "pygments_lexer": "ipython3",
   "version": "3.13.5"
  }
 },
 "nbformat": 4,
 "nbformat_minor": 5
}
