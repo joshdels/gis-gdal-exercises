{
 "cells": [
  {
   "cell_type": "markdown",
   "id": "65104742",
   "metadata": {},
   "source": [
    "Working with gdal"
   ]
  },
  {
   "cell_type": "code",
   "execution_count": 2,
   "id": "e9ae5560",
   "metadata": {},
   "outputs": [
    {
     "data": {
      "text/plain": [
       "'D:\\\\2. AREAS\\\\JUPYTER\\\\gdal-tools\\\\srtm'"
      ]
     },
     "execution_count": 2,
     "metadata": {},
     "output_type": "execute_result"
    }
   ],
   "source": [
    "import os\n",
    "# Change notebook working directory\n",
    "os.chdir(r\"D:\\2. AREAS\\JUPYTER\\gdal-tools\\srtm\")\n",
    "os.getcwd()   # Shows current working directory"
   ]
  },
  {
   "cell_type": "code",
   "execution_count": null,
   "id": "c2ad798e",
   "metadata": {},
   "outputs": [],
   "source": [
    "!gdalinfo N28E086.hgt\n",
    "!gdalinfo -stat N28E086.hgt"
   ]
  },
  {
   "cell_type": "markdown",
   "id": "c6d5cf0a",
   "metadata": {},
   "source": [
    "Merging Virtual Datas"
   ]
  },
  {
   "cell_type": "code",
   "execution_count": null,
   "id": "300c018c",
   "metadata": {},
   "outputs": [],
   "source": [
    "!dir /b *.hgt > filelist.txt"
   ]
  },
  {
   "cell_type": "code",
   "execution_count": null,
   "id": "ed217e8a",
   "metadata": {},
   "outputs": [],
   "source": [
    "!gdalbuildvrt  -input_file_list filelist.txt dili_sya_merge.vrt"
   ]
  },
  {
   "cell_type": "code",
   "execution_count": null,
   "id": "f717f506",
   "metadata": {},
   "outputs": [],
   "source": [
    "#finding the highest elevation\n",
    "!gdalinfo -stats merged.vrt"
   ]
  },
  {
   "cell_type": "code",
   "execution_count": null,
   "id": "a7448a39",
   "metadata": {},
   "outputs": [],
   "source": [
    "#translate and compress\n",
    "!gdal_translate -of GTiff merged.vrt merged.tif -co COMPRESS=DEFLATE -co TILED=YES -co PREDICTOR=2"
   ]
  },
  {
   "cell_type": "code",
   "execution_count": null,
   "id": "5066a1b1",
   "metadata": {},
   "outputs": [],
   "source": [
    "#NO Values\n",
    "!gdal_translate -of GTiff merged.vrt merge.tif -co COMPRESS=DEFLATE -co TILED=YES -co PREDICTOR=2 -a_nodata -9999\n",
    "!gdalinfo merge.tif"
   ]
  },
  {
   "cell_type": "code",
   "execution_count": 3,
   "id": "98777904",
   "metadata": {},
   "outputs": [
    {
     "name": "stdout",
     "output_type": "stream",
     "text": [
      "Input file size is 7201, 7201\n",
      "0...10...20...30...40...50...60...70...80...90...100 - done.\n"
     ]
    }
   ],
   "source": [
    "#COG\n",
    "!gdal_translate -of COG merged.vrt merged_cog.tiff -co COMPRESS=DEFLATE -co PREDICTOR=YES -co NUM_THREADS=ALL_CPUS -a_nodata -9999"
   ]
  },
  {
   "cell_type": "markdown",
   "id": "0baa3206",
   "metadata": {},
   "source": [
    "#Elevation Datas"
   ]
  },
  {
   "cell_type": "code",
   "execution_count": null,
   "id": "4b5d48fe",
   "metadata": {},
   "outputs": [
    {
     "name": "stdout",
     "output_type": "stream",
     "text": [
      "0...10...20...30...40...50...60...70...80...90...100 - done.\n",
      "0...10...20...30...40...50...60...70...80...90...100 - done.\n"
     ]
    }
   ],
   "source": [
    "#hillshade\n",
    "!gdaldem hillshade merged.tif hillshaed.tif -s 111120\n",
    "!gdaldem hillshade merged.tif hillshade_combined.tif -s 111120 -multidirectional"
   ]
  },
  {
   "cell_type": "code",
   "execution_count": 14,
   "id": "e2fba62e",
   "metadata": {},
   "outputs": [
    {
     "name": "stdout",
     "output_type": "stream",
     "text": [
      "Overwriting colormap.txt\n"
     ]
    }
   ],
   "source": [
    "%%writefile colormap.txt\n",
    "#color relief\n",
    "1000,101,146,82\n",
    "1500,190,202,130\n",
    "2000,241,225,145\n",
    "2500,244,200,126\n",
    "3000,197,147,117\n",
    "4000,204,169,170\n",
    "5000,251,238,253\n",
    "6000,255,255,255\n"
   ]
  },
  {
   "cell_type": "code",
   "execution_count": 18,
   "id": "1bfe949b",
   "metadata": {},
   "outputs": [
    {
     "name": "stdout",
     "output_type": "stream",
     "text": [
      "0...10...20...30...40...50...60...70...80...90...100 - done.\n",
      "Input file size is 7201, 7201\n",
      "0...10...20...30...40...50...60...70...80...90...100 - done.\n"
     ]
    },
    {
     "name": "stderr",
     "output_type": "stream",
     "text": [
      "Warning 1: for band 1, nodata value has been clamped to 0, the original value being out of range.\n",
      "Warning 1: for band 2, nodata value has been clamped to 0, the original value being out of range.\n",
      "Warning 1: for band 3, nodata value has been clamped to 0, the original value being out of range.\n"
     ]
    }
   ],
   "source": [
    "!gdaldem color-relief merged.tif colormap.txt colorized.tif\n",
    "#NO Values\n",
    "!gdal_translate -of GTiff colorized.tif compress_colorized.tif -co COMPRESS=DEFLATE -co TILED=YES -co PREDICTOR=2 -a_nodata -9999\n"
   ]
  },
  {
   "cell_type": "code",
   "execution_count": 19,
   "id": "e3c71c2a",
   "metadata": {},
   "outputs": [
    {
     "name": "stdout",
     "output_type": "stream",
     "text": [
      "Input file size is 7201, 7201\n",
      "0...10...20...30...40...50...60...70...80...90...100 - done.\n"
     ]
    }
   ],
   "source": [
    "!gdal_translate -of PNG compress_colorized.tif converted.png"
   ]
  },
  {
   "cell_type": "code",
   "execution_count": null,
   "id": "41b9b417",
   "metadata": {},
   "outputs": [],
   "source": []
  }
 ],
 "metadata": {
  "kernelspec": {
   "display_name": "webgisbackend",
   "language": "python",
   "name": "python3"
  },
  "language_info": {
   "codemirror_mode": {
    "name": "ipython",
    "version": 3
   },
   "file_extension": ".py",
   "mimetype": "text/x-python",
   "name": "python",
   "nbconvert_exporter": "python",
   "pygments_lexer": "ipython3",
   "version": "3.13.5"
  }
 },
 "nbformat": 4,
 "nbformat_minor": 5
}
