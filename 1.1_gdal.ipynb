{
 "cells": [
  {
   "cell_type": "markdown",
   "id": "65104742",
   "metadata": {},
   "source": [
    "Working with gdal"
   ]
  },
  {
   "cell_type": "code",
   "execution_count": 3,
   "id": "e9ae5560",
   "metadata": {},
   "outputs": [
    {
     "data": {
      "text/plain": [
       "'D:\\\\2. AREAS\\\\JUPYTER\\\\gdal-tools\\\\srtm'"
      ]
     },
     "execution_count": 3,
     "metadata": {},
     "output_type": "execute_result"
    }
   ],
   "source": [
    "import os\n",
    "# Change notebook working directory\n",
    "os.chdir(r\"D:\\2. AREAS\\JUPYTER\\gdal-tools\\srtm\")\n",
    "os.getcwd()   # Shows current working directory"
   ]
  },
  {
   "cell_type": "code",
   "execution_count": null,
   "id": "c2ad798e",
   "metadata": {},
   "outputs": [],
   "source": [
    "!gdalinfo N28E086.hgt\n",
    "!gdalinfo -stat N28E086.hgt"
   ]
  },
  {
   "cell_type": "markdown",
   "id": "c6d5cf0a",
   "metadata": {},
   "source": [
    "Merging Virtual Datas"
   ]
  },
  {
   "cell_type": "code",
   "execution_count": null,
   "id": "300c018c",
   "metadata": {},
   "outputs": [],
   "source": [
    "!dir /b *.hgt > filelist.txt"
   ]
  },
  {
   "cell_type": "code",
   "execution_count": null,
   "id": "ed217e8a",
   "metadata": {},
   "outputs": [],
   "source": [
    "!gdalbuildvrt  -input_file_list filelist.txt dili_sya_merge.vrt"
   ]
  },
  {
   "cell_type": "code",
   "execution_count": 4,
   "id": "f717f506",
   "metadata": {},
   "outputs": [
    {
     "name": "stdout",
     "output_type": "stream",
     "text": [
      "Driver: VRT/Virtual Raster\n",
      "Files: merged.vrt\n",
      "       N27E086.hgt\n",
      "       N27E087.hgt\n",
      "       N28E086.hgt\n",
      "       N28E087.hgt\n",
      "Size is 7201, 7201\n",
      "Coordinate System is:\n",
      "GEOGCRS[\"WGS 84\",\n",
      "    DATUM[\"World Geodetic System 1984\",\n",
      "        ELLIPSOID[\"WGS 84\",6378137,298.257223563,\n",
      "            LENGTHUNIT[\"metre\",1]]],\n",
      "    PRIMEM[\"Greenwich\",0,\n",
      "        ANGLEUNIT[\"degree\",0.0174532925199433]],\n",
      "    CS[ellipsoidal,2],\n",
      "        AXIS[\"geodetic latitude (Lat)\",north,\n",
      "            ORDER[1],\n",
      "            ANGLEUNIT[\"degree\",0.0174532925199433]],\n",
      "        AXIS[\"geodetic longitude (Lon)\",east,\n",
      "            ORDER[2],\n",
      "            ANGLEUNIT[\"degree\",0.0174532925199433]],\n",
      "    ID[\"EPSG\",4326]]\n",
      "Data axis to CRS axis mapping: 2,1\n",
      "Origin = (85.999861111111116,29.000138888888888)\n",
      "Pixel Size = (0.000277777777778,-0.000277777777778)\n",
      "Corner Coordinates:\n",
      "Upper Left  (  85.9998611,  29.0001389) ( 85d59'59.50\"E, 29d 0' 0.50\"N)\n",
      "Lower Left  (  85.9998611,  26.9998611) ( 85d59'59.50\"E, 26d59'59.50\"N)\n",
      "Upper Right (  88.0001389,  29.0001389) ( 88d 0' 0.50\"E, 29d 0' 0.50\"N)\n",
      "Lower Right (  88.0001389,  26.9998611) ( 88d 0' 0.50\"E, 26d59'59.50\"N)\n",
      "Center      (  87.0000000,  28.0000000) ( 87d 0' 0.00\"E, 28d 0' 0.00\"N)\n",
      "Band 1 Block=128x128 Type=Int16, ColorInterp=Undefined\n",
      "  Min=176.000 Max=8748.000 \n",
      "  Minimum=176.000, Maximum=8748.000, Mean=3840.966, StdDev=1649.758\n",
      "  NoData Value=-32768\n",
      "  Metadata:\n",
      "    STATISTICS_MAXIMUM=8748\n",
      "    STATISTICS_MEAN=3840.9655621886\n",
      "    STATISTICS_MINIMUM=176\n",
      "    STATISTICS_STDDEV=1649.7576436136\n",
      "    STATISTICS_VALID_PERCENT=100\n"
     ]
    }
   ],
   "source": [
    "#finding the highest elevation\n",
    "!gdalinfo -stats merged.vrt"
   ]
  },
  {
   "cell_type": "code",
   "execution_count": null,
   "id": "a7448a39",
   "metadata": {},
   "outputs": [
    {
     "name": "stdout",
     "output_type": "stream",
     "text": [
      "Input file size is 7201, 7201\n",
      "0...10...20...30...40...50...60...70...80...90...100 - done.\n"
     ]
    }
   ],
   "source": [
    "#translate and compress\n",
    "!gdal_translate -of GTiff merged.vrt merged.tif -co COMPRESS=DEFLATE -co TILED=YES -co PREDICTOR=2"
   ]
  },
  {
   "cell_type": "code",
   "execution_count": 11,
   "id": "5066a1b1",
   "metadata": {},
   "outputs": [
    {
     "name": "stdout",
     "output_type": "stream",
     "text": [
      "Input file size is 7201, 7201\n",
      "0...10...20...30...40...50...60...70...80...90...100 - done.\n",
      "Driver: GTiff/GeoTIFF\n",
      "Files: merge.tif\n",
      "Size is 7201, 7201\n",
      "Coordinate System is:\n",
      "GEOGCRS[\"WGS 84\",\n",
      "    ENSEMBLE[\"World Geodetic System 1984 ensemble\",\n",
      "        MEMBER[\"World Geodetic System 1984 (Transit)\"],\n",
      "        MEMBER[\"World Geodetic System 1984 (G730)\"],\n",
      "        MEMBER[\"World Geodetic System 1984 (G873)\"],\n",
      "        MEMBER[\"World Geodetic System 1984 (G1150)\"],\n",
      "        MEMBER[\"World Geodetic System 1984 (G1674)\"],\n",
      "        MEMBER[\"World Geodetic System 1984 (G1762)\"],\n",
      "        MEMBER[\"World Geodetic System 1984 (G2139)\"],\n",
      "        MEMBER[\"World Geodetic System 1984 (G2296)\"],\n",
      "        ELLIPSOID[\"WGS 84\",6378137,298.257223563,\n",
      "            LENGTHUNIT[\"metre\",1]],\n",
      "        ENSEMBLEACCURACY[2.0]],\n",
      "    PRIMEM[\"Greenwich\",0,\n",
      "        ANGLEUNIT[\"degree\",0.0174532925199433]],\n",
      "    CS[ellipsoidal,2],\n",
      "        AXIS[\"geodetic latitude (Lat)\",north,\n",
      "            ORDER[1],\n",
      "            ANGLEUNIT[\"degree\",0.0174532925199433]],\n",
      "        AXIS[\"geodetic longitude (Lon)\",east,\n",
      "            ORDER[2],\n",
      "            ANGLEUNIT[\"degree\",0.0174532925199433]],\n",
      "    USAGE[\n",
      "        SCOPE[\"Horizontal component of 3D system.\"],\n",
      "        AREA[\"World.\"],\n",
      "        BBOX[-90,-180,90,180]],\n",
      "    ID[\"EPSG\",4326]]\n",
      "Data axis to CRS axis mapping: 2,1\n",
      "Origin = (85.999861111111116,29.000138888888888)\n",
      "Pixel Size = (0.000277777777778,-0.000277777777778)\n",
      "Metadata:\n",
      "  AREA_OR_POINT=Area\n",
      "Image Structure Metadata:\n",
      "  COMPRESSION=DEFLATE\n",
      "  INTERLEAVE=BAND\n",
      "  PREDICTOR=2\n",
      "Corner Coordinates:\n",
      "Upper Left  (  85.9998611,  29.0001389) ( 85d59'59.50\"E, 29d 0' 0.50\"N)\n",
      "Lower Left  (  85.9998611,  26.9998611) ( 85d59'59.50\"E, 26d59'59.50\"N)\n",
      "Upper Right (  88.0001389,  29.0001389) ( 88d 0' 0.50\"E, 29d 0' 0.50\"N)\n",
      "Lower Right (  88.0001389,  26.9998611) ( 88d 0' 0.50\"E, 26d59'59.50\"N)\n",
      "Center      (  87.0000000,  28.0000000) ( 87d 0' 0.00\"E, 28d 0' 0.00\"N)\n",
      "Band 1 Block=256x256 Type=Int16, ColorInterp=Gray\n",
      "  Min=176.000 Max=8748.000 \n",
      "  Minimum=176.000, Maximum=8748.000, Mean=3840.966, StdDev=1649.758\n",
      "  NoData Value=-9999\n",
      "  Metadata:\n",
      "    STATISTICS_MAXIMUM=8748\n",
      "    STATISTICS_MEAN=3840.9655621886\n",
      "    STATISTICS_MINIMUM=176\n",
      "    STATISTICS_STDDEV=1649.7576436136\n",
      "    STATISTICS_VALID_PERCENT=100\n"
     ]
    }
   ],
   "source": [
    "#NO Values\n",
    "!gdal_translate -of GTiff merged.vrt merge.tif -co COMPRESS=DEFLATE -co TILED=YES -co PREDICTOR=2 -a_nodata -9999\n",
    "!gdalinfo merge.tif"
   ]
  },
  {
   "cell_type": "code",
   "execution_count": null,
   "id": "98777904",
   "metadata": {},
   "outputs": [],
   "source": [
    "#COG"
   ]
  }
 ],
 "metadata": {
  "kernelspec": {
   "display_name": "webgisbackend",
   "language": "python",
   "name": "python3"
  },
  "language_info": {
   "codemirror_mode": {
    "name": "ipython",
    "version": 3
   },
   "file_extension": ".py",
   "mimetype": "text/x-python",
   "name": "python",
   "nbconvert_exporter": "python",
   "pygments_lexer": "ipython3",
   "version": "3.13.5"
  }
 },
 "nbformat": 4,
 "nbformat_minor": 5
}
