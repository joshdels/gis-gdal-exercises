{
 "cells": [
  {
   "cell_type": "markdown",
   "id": "29e816f0",
   "metadata": {},
   "source": [
    "# Subset"
   ]
  },
  {
   "cell_type": "code",
   "execution_count": 1,
   "id": "ecad6d17",
   "metadata": {},
   "outputs": [
    {
     "data": {
      "text/plain": [
       "'D:\\\\2. AREAS\\\\JUPYTER\\\\gdal-tools'"
      ]
     },
     "execution_count": 1,
     "metadata": {},
     "output_type": "execute_result"
    }
   ],
   "source": [
    "import os\n",
    "os.chdir(r\"D:\\2. AREAS\\JUPYTER\\gdal-tools\")\n",
    "os.getcwd()"
   ]
  },
  {
   "cell_type": "markdown",
   "id": "8c74ff7d",
   "metadata": {},
   "source": [
    "### Coordinates"
   ]
  },
  {
   "cell_type": "code",
   "execution_count": 4,
   "id": "5e86fe47",
   "metadata": {},
   "outputs": [],
   "source": [
    "!ogr2ogr -f geojson mycities.geojson worldcities.csv -oo X_POSSIBLE_NAMES=lng -oo Y_POSSIBLE_NAMES=lat -a_srs EPSG:4326 -where \"country = 'India'\""
   ]
  },
  {
   "cell_type": "markdown",
   "id": "d75bcfaa",
   "metadata": {},
   "source": [
    "### SQL"
   ]
  },
  {
   "cell_type": "code",
   "execution_count": 6,
   "id": "3a183875",
   "metadata": {},
   "outputs": [],
   "source": [
    "!ogr2ogr -f GPKG mycities.gpkg worldcities.csv -oo X_POSSIBLE_NAMES=lng -oo Y_POSSIBLE_NAMES=lat -a_srs EPSG:4326 -sql \"SELECT city, country, CAST(population AS integer) as population from  worldcities where country ='India'\""
   ]
  },
  {
   "cell_type": "code",
   "execution_count": 9,
   "id": "2e8572f6",
   "metadata": {},
   "outputs": [],
   "source": [
    "!ogr2ogr -f GPKG mycities.gpkg worldcities.csv -oo X_POSSIBLE_NAMES=lng -oo Y_POSSIBLE_NAMES=lat -a_srs EPSG:4326 -sql \"SELECT city, country, CAST(population AS integer) as population from  worldcities where country ='India'\" -nln mycities -overwrite"
   ]
  },
  {
   "cell_type": "code",
   "execution_count": 10,
   "id": "654ca508",
   "metadata": {},
   "outputs": [
    {
     "name": "stdout",
     "output_type": "stream",
     "text": [
      "INFO: Open of `mycities.gpkg'\n",
      "      using driver `GPKG' successful.\n",
      "\n",
      "Layer name: worldcities\n",
      "Geometry: Point\n",
      "Feature Count: 212\n",
      "Extent: (69.670000, 8.180400) - (94.900000, 34.300000)\n",
      "Layer SRS WKT:\n",
      "GEOGCRS[\"WGS 84\",\n",
      "    ENSEMBLE[\"World Geodetic System 1984 ensemble\",\n",
      "        MEMBER[\"World Geodetic System 1984 (Transit)\"],\n",
      "        MEMBER[\"World Geodetic System 1984 (G730)\"],\n",
      "        MEMBER[\"World Geodetic System 1984 (G873)\"],\n",
      "        MEMBER[\"World Geodetic System 1984 (G1150)\"],\n",
      "        MEMBER[\"World Geodetic System 1984 (G1674)\"],\n",
      "        MEMBER[\"World Geodetic System 1984 (G1762)\"],\n",
      "        MEMBER[\"World Geodetic System 1984 (G2139)\"],\n",
      "        MEMBER[\"World Geodetic System 1984 (G2296)\"],\n",
      "        ELLIPSOID[\"WGS 84\",6378137,298.257223563,\n",
      "            LENGTHUNIT[\"metre\",1]],\n",
      "        ENSEMBLEACCURACY[2.0]],\n",
      "    PRIMEM[\"Greenwich\",0,\n",
      "        ANGLEUNIT[\"degree\",0.0174532925199433]],\n",
      "    CS[ellipsoidal,2],\n",
      "        AXIS[\"geodetic latitude (Lat)\",north,\n",
      "            ORDER[1],\n",
      "            ANGLEUNIT[\"degree\",0.0174532925199433]],\n",
      "        AXIS[\"geodetic longitude (Lon)\",east,\n",
      "            ORDER[2],\n",
      "            ANGLEUNIT[\"degree\",0.0174532925199433]],\n",
      "    USAGE[\n",
      "        SCOPE[\"Horizontal component of 3D system.\"],\n",
      "        AREA[\"World.\"],\n",
      "        BBOX[-90,-180,90,180]],\n",
      "    ID[\"EPSG\",4326]]\n",
      "Data axis to CRS axis mapping: 2,1\n",
      "FID Column = fid\n",
      "Geometry Column = geom\n",
      "city: String (0.0)\n",
      "country: String (0.0)\n",
      "population: Integer (0.0)\n",
      "\n",
      "Layer name: mycities\n",
      "Geometry: Point\n",
      "Feature Count: 212\n",
      "Extent: (69.670000, 8.180400) - (94.900000, 34.300000)\n",
      "Layer SRS WKT:\n",
      "GEOGCRS[\"WGS 84\",\n",
      "    ENSEMBLE[\"World Geodetic System 1984 ensemble\",\n",
      "        MEMBER[\"World Geodetic System 1984 (Transit)\"],\n",
      "        MEMBER[\"World Geodetic System 1984 (G730)\"],\n",
      "        MEMBER[\"World Geodetic System 1984 (G873)\"],\n",
      "        MEMBER[\"World Geodetic System 1984 (G1150)\"],\n",
      "        MEMBER[\"World Geodetic System 1984 (G1674)\"],\n",
      "        MEMBER[\"World Geodetic System 1984 (G1762)\"],\n",
      "        MEMBER[\"World Geodetic System 1984 (G2139)\"],\n",
      "        MEMBER[\"World Geodetic System 1984 (G2296)\"],\n",
      "        ELLIPSOID[\"WGS 84\",6378137,298.257223563,\n",
      "            LENGTHUNIT[\"metre\",1]],\n",
      "        ENSEMBLEACCURACY[2.0]],\n",
      "    PRIMEM[\"Greenwich\",0,\n",
      "        ANGLEUNIT[\"degree\",0.0174532925199433]],\n",
      "    CS[ellipsoidal,2],\n",
      "        AXIS[\"geodetic latitude (Lat)\",north,\n",
      "            ORDER[1],\n",
      "            ANGLEUNIT[\"degree\",0.0174532925199433]],\n",
      "        AXIS[\"geodetic longitude (Lon)\",east,\n",
      "            ORDER[2],\n",
      "            ANGLEUNIT[\"degree\",0.0174532925199433]],\n",
      "    USAGE[\n",
      "        SCOPE[\"Horizontal component of 3D system.\"],\n",
      "        AREA[\"World.\"],\n",
      "        BBOX[-90,-180,90,180]],\n",
      "    ID[\"EPSG\",4326]]\n",
      "Data axis to CRS axis mapping: 2,1\n",
      "FID Column = fid\n",
      "Geometry Column = geom\n",
      "city: String (0.0)\n",
      "country: String (0.0)\n",
      "population: Integer (0.0)\n"
     ]
    }
   ],
   "source": [
    "!ogrinfo -so -al mycities.gpkg"
   ]
  },
  {
   "cell_type": "code",
   "execution_count": 11,
   "id": "ffb8e554",
   "metadata": {},
   "outputs": [],
   "source": [
    "#exercises"
   ]
  },
  {
   "cell_type": "code",
   "execution_count": 26,
   "id": "1ccbdbdc",
   "metadata": {},
   "outputs": [
    {
     "name": "stderr",
     "output_type": "stream",
     "text": [
      "Warning 1: One or several characters couldn't be converted correctly from UTF-8 to ISO-8859-1.  This warning will not be emitted anymore.\n",
      "Warning 1: One or several characters couldn't be converted correctly from UTF-8 to ISO-8859-1.  This warning will not be emitted anymore.\n"
     ]
    }
   ],
   "source": [
    "!ogr2ogr -f \"ESRI Shapefile\" 1mycities mycities.gpkg -a_srs EPSG:7755 "
   ]
  },
  {
   "cell_type": "code",
   "execution_count": 27,
   "id": "a6df3235",
   "metadata": {},
   "outputs": [
    {
     "data": {
      "text/plain": [
       "CompletedProcess(args=['ogr2ogr', '-f', 'ESRI Shapefile', '1mycities', 'mycities.gpkg', '-a_srs', 'EPSG:7755'], returncode=0)"
      ]
     },
     "execution_count": 27,
     "metadata": {},
     "output_type": "execute_result"
    }
   ],
   "source": [
    "import subprocess\n",
    "\n",
    "# Run ogr2ogr like in the shell\n",
    "subprocess.run([\n",
    "    \"ogr2ogr\",\n",
    "    \"-f\", \"ESRI Shapefile\",\n",
    "    \"1mycities\",          # output shapefile base name\n",
    "    \"mycities.gpkg\",      # input GeoPackage\n",
    "    \"-a_srs\", \"EPSG:7755\"\n",
    "])"
   ]
  },
  {
   "cell_type": "code",
   "execution_count": null,
   "id": "99ad60f3",
   "metadata": {},
   "outputs": [],
   "source": []
  }
 ],
 "metadata": {
  "kernelspec": {
   "display_name": "webgisbackend",
   "language": "python",
   "name": "python3"
  },
  "language_info": {
   "codemirror_mode": {
    "name": "ipython",
    "version": 3
   },
   "file_extension": ".py",
   "mimetype": "text/x-python",
   "name": "python",
   "nbconvert_exporter": "python",
   "pygments_lexer": "ipython3",
   "version": "3.13.5"
  }
 },
 "nbformat": 4,
 "nbformat_minor": 5
}
