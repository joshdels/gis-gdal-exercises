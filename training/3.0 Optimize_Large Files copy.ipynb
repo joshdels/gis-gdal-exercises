{
 "cells": [
  {
   "cell_type": "markdown",
   "id": "29e816f0",
   "metadata": {},
   "source": [
    "# Vector Tiles"
   ]
  },
  {
   "cell_type": "code",
   "execution_count": 2,
   "id": "ecad6d17",
   "metadata": {},
   "outputs": [
    {
     "data": {
      "text/plain": [
       "'C:\\\\Users\\\\deleo\\\\Downloads\\\\MisamisOriental'"
      ]
     },
     "execution_count": 2,
     "metadata": {},
     "output_type": "execute_result"
    }
   ],
   "source": [
    "import os\n",
    "os.chdir(r\"C:\\Users\\deleo\\Downloads\\MisamisOriental\")\n",
    "os.getcwd()"
   ]
  },
  {
   "cell_type": "code",
   "execution_count": 4,
   "id": "ba714f1c",
   "metadata": {},
   "outputs": [
    {
     "name": "stderr",
     "output_type": "stream",
     "text": [
      "ERROR 1: Unable to open datasource `MisamisOriental_Flood_100year.shp' with the following drivers.\n",
      "  -> `PCIDSK'\n",
      "  -> `PDS4'\n",
      "  -> `VICAR'\n",
      "  -> `MBTiles'\n",
      "  -> `EEDA'\n",
      "  -> `OGCAPI'\n",
      "  -> `ESRI Shapefile'\n",
      "  -> `MapInfo File'\n",
      "  -> `UK .NTF'\n",
      "  -> `LVBAG'\n",
      "  -> `OGR_SDTS'\n",
      "  -> `S57'\n",
      "  -> `DGN'\n",
      "  -> `OGR_VRT'\n",
      "  -> `Memory'\n",
      "  -> `CSV'\n",
      "  -> `NAS'\n",
      "  -> `GML'\n",
      "  -> `GPX'\n",
      "  -> `LIBKML'\n",
      "  -> `KML'\n",
      "  -> `GeoJSON'\n",
      "  -> `GeoJSONSeq'\n",
      "  -> `ESRIJSON'\n",
      "  -> `TopoJSON'\n",
      "  -> `Interlis 1'\n",
      "  -> `Interlis 2'\n",
      "  -> `OGR_GMT'\n",
      "  -> `GPKG'\n",
      "  -> `SQLite'\n",
      "  -> `ODBC'\n",
      "  -> `WAsP'\n",
      "  -> `PGeo'\n",
      "  -> `MSSQLSpatial'\n",
      "  -> `OpenFileGDB'\n",
      "  -> `DXF'\n",
      "  -> `CAD'\n",
      "  -> `FlatGeobuf'\n",
      "  -> `Geoconcept'\n",
      "  -> `GeoRSS'\n",
      "  -> `VFK'\n",
      "  -> `PGDUMP'\n",
      "  -> `OSM'\n",
      "  -> `GPSBabel'\n",
      "  -> `OGR_PDS'\n",
      "  -> `WFS'\n",
      "  -> `OAPIF'\n",
      "  -> `EDIGEO'\n",
      "  -> `SVG'\n",
      "  -> `Idrisi'\n",
      "  -> `ODS'\n",
      "  -> `XLSX'\n",
      "  -> `Elasticsearch'\n",
      "  -> `Carto'\n",
      "  -> `AmigoCloud'\n",
      "  -> `SXF'\n",
      "  -> `Selafin'\n",
      "  -> `JML'\n",
      "  -> `PLSCENES'\n",
      "  -> `CSW'\n",
      "  -> `VDV'\n",
      "  -> `GMLAS'\n",
      "  -> `MVT'\n",
      "  -> `NGW'\n",
      "  -> `MapML'\n",
      "  -> `GTFS'\n",
      "  -> `PMTiles'\n",
      "  -> `JSONFG'\n",
      "  -> `MiraMonVector'\n",
      "  -> `TIGER'\n",
      "  -> `AVCBin'\n",
      "  -> `AVCE00'\n",
      "  -> `HTTP'\n"
     ]
    }
   ],
   "source": [
    "!ogr2ogr -f GPKG output_simplified.gpkg MisamisOriental_Flood_100year.shp -simplify 10\n"
   ]
  },
  {
   "cell_type": "code",
   "execution_count": 5,
   "id": "e9423cd9",
   "metadata": {},
   "outputs": [
    {
     "name": "stdout",
     "output_type": "stream",
     "text": [
      "^C\n"
     ]
    }
   ],
   "source": [
    "!ogr2ogr -f \"ESRI Shapefile\" \"C:\\Users\\deleo\\Downloads\\MisamisOriental\\output_simplified.shp\" \"C:\\Users\\deleo\\Downloads\\MisamisOriental\\MisamisOriental_Flood_100year.shp\" -simplify 10\n"
   ]
  },
  {
   "cell_type": "code",
   "execution_count": 8,
   "id": "077b0637",
   "metadata": {},
   "outputs": [
    {
     "name": "stdout",
     "output_type": "stream",
     "text": [
      "^C\n"
     ]
    }
   ],
   "source": [
    "\n",
    "!ogr2ogr -f \"ESRI Shapefile\" \"C:\\Users\\deleo\\Downloads\\MisamisOriental\\fixed_geom.shp\" \"C:\\Users\\deleo\\Downloads\\MisamisOriental\\MisamisOriental_Flood_100year.shp\" -makevalid"
   ]
  },
  {
   "cell_type": "code",
   "execution_count": null,
   "id": "2b96fff1",
   "metadata": {},
   "outputs": [],
   "source": []
  }
 ],
 "metadata": {
  "kernelspec": {
   "display_name": "webgisbackend",
   "language": "python",
   "name": "python3"
  },
  "language_info": {
   "codemirror_mode": {
    "name": "ipython",
    "version": 3
   },
   "file_extension": ".py",
   "mimetype": "text/x-python",
   "name": "python",
   "nbconvert_exporter": "python",
   "pygments_lexer": "ipython3",
   "version": "3.13.5"
  }
 },
 "nbformat": 4,
 "nbformat_minor": 5
}
