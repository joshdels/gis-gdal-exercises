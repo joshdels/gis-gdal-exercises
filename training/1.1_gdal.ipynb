{
 "cells": [
  {
   "cell_type": "markdown",
   "id": "65104742",
   "metadata": {},
   "source": [
    "Working with gdal"
   ]
  },
  {
   "cell_type": "code",
   "execution_count": 3,
   "id": "e9ae5560",
   "metadata": {},
   "outputs": [
    {
     "data": {
      "text/plain": [
       "'D:\\\\2. AREAS\\\\JUPYTER\\\\gdal-tools\\\\srtm'"
      ]
     },
     "execution_count": 3,
     "metadata": {},
     "output_type": "execute_result"
    }
   ],
   "source": [
    "import os\n",
    "# Change notebook working directory\n",
    "os.chdir(r\"D:\\2. AREAS\\JUPYTER\\gdal-tools\\srtm\")\n",
    "os.getcwd()   # Shows current working directory"
   ]
  },
  {
   "cell_type": "code",
   "execution_count": 4,
   "id": "c2ad798e",
   "metadata": {},
   "outputs": [
    {
     "name": "stdout",
     "output_type": "stream",
     "text": [
      "Driver: SRTMHGT/SRTMHGT File Format\n",
      "Files: N28E086.hgt\n",
      "       N28E086.hgt.aux.xml\n",
      "Size is 3601, 3601\n",
      "Coordinate System is:\n",
      "GEOGCRS[\"WGS 84\",\n",
      "    DATUM[\"World Geodetic System 1984\",\n",
      "        ELLIPSOID[\"WGS 84\",6378137,298.257223563,\n",
      "            LENGTHUNIT[\"metre\",1]]],\n",
      "    PRIMEM[\"Greenwich\",0,\n",
      "        ANGLEUNIT[\"degree\",0.0174532925199433]],\n",
      "    CS[ellipsoidal,2],\n",
      "        AXIS[\"geodetic latitude (Lat)\",north,\n",
      "            ORDER[1],\n",
      "            ANGLEUNIT[\"degree\",0.0174532925199433]],\n",
      "        AXIS[\"geodetic longitude (Lon)\",east,\n",
      "            ORDER[2],\n",
      "            ANGLEUNIT[\"degree\",0.0174532925199433]],\n",
      "    ID[\"EPSG\",4326]]\n",
      "Data axis to CRS axis mapping: 2,1\n",
      "Origin = (85.999861111111116,29.000138888888888)\n",
      "Pixel Size = (0.000277777777778,-0.000277777777778)\n",
      "Metadata:\n",
      "  AREA_OR_POINT=Point\n",
      "Corner Coordinates:\n",
      "Upper Left  (  85.9998611,  29.0001389) ( 85d59'59.50\"E, 29d 0' 0.50\"N)\n",
      "Lower Left  (  85.9998611,  27.9998611) ( 85d59'59.50\"E, 27d59'59.50\"N)\n",
      "Upper Right (  87.0001389,  29.0001389) ( 87d 0' 0.50\"E, 29d 0' 0.50\"N)\n",
      "Lower Right (  87.0001389,  27.9998611) ( 87d 0' 0.50\"E, 27d59'59.50\"N)\n",
      "Center      (  86.5000000,  28.5000000) ( 86d30' 0.00\"E, 28d30' 0.00\"N)\n",
      "Band 1 Block=3601x1 Type=Int16, ColorInterp=Undefined\n",
      "  Min=2535.000 Max=8275.000 \n",
      "  Minimum=2535.000, Maximum=8275.000, Mean=5067.325, StdDev=545.184\n",
      "  NoData Value=-32768\n",
      "  Unit Type: m\n",
      "  Metadata:\n",
      "    STATISTICS_MAXIMUM=8275\n",
      "    STATISTICS_MEAN=5067.3254290577\n",
      "    STATISTICS_MINIMUM=2535\n",
      "    STATISTICS_STDDEV=545.18375677872\n",
      "    STATISTICS_VALID_PERCENT=100\n"
     ]
    },
    {
     "name": "stderr",
     "output_type": "stream",
     "text": [
      "ERROR 1: Unknown argument: -stat\n",
      "Usage: gdalinfo [--help] [--long-usage] [--help-general]\n",
      "                [-json] [-mm]\n",
      "                [[-stats]|[-approx_stats]]\n",
      "                [-hist]\n",
      "                [-nogcp] [-nomd] [-norat] [-noct] [-nofl] [-nonodata] [-nomask]\n",
      "                [-checksum] [-listmdd] [-proj4] [-wkt_format <WKT1|WKT2|WKT2_2015|WKT2_2018|WKT2_2019>] [-sd <n>]\n",
      "                [-oo <NAME>=<VALUE>]... [-if <format>]... [-mdd <domain>|all]\n",
      "                <dataset_name>\n"
     ]
    }
   ],
   "source": [
    "!gdalinfo N28E086.hgt\n",
    "!gdalinfo -stat N28E086.hgt"
   ]
  },
  {
   "cell_type": "markdown",
   "id": "c6d5cf0a",
   "metadata": {},
   "source": [
    "Merging Virtual Datas"
   ]
  },
  {
   "cell_type": "code",
   "execution_count": null,
   "id": "300c018c",
   "metadata": {},
   "outputs": [],
   "source": [
    "!dir /b *.hgt > filelist.txt"
   ]
  },
  {
   "cell_type": "code",
   "execution_count": null,
   "id": "ed217e8a",
   "metadata": {},
   "outputs": [],
   "source": [
    "!gdalbuildvrt  -input_file_list filelist.txt dili_sya_merge.vrt"
   ]
  },
  {
   "cell_type": "code",
   "execution_count": null,
   "id": "f717f506",
   "metadata": {},
   "outputs": [],
   "source": [
    "#finding the highest elevation\n",
    "!gdalinfo -stats merged.vrt"
   ]
  },
  {
   "cell_type": "code",
   "execution_count": null,
   "id": "a7448a39",
   "metadata": {},
   "outputs": [],
   "source": [
    "#translate and compress\n",
    "!gdal_translate -of GTiff merged.vrt merged.tif -co COMPRESS=DEFLATE -co TILED=YES -co PREDICTOR=2"
   ]
  },
  {
   "cell_type": "code",
   "execution_count": null,
   "id": "5066a1b1",
   "metadata": {},
   "outputs": [],
   "source": [
    "#NO Values\n",
    "!gdal_translate -of GTiff merged.vrt merge.tif -co COMPRESS=DEFLATE -co TILED=YES -co PREDICTOR=2 -a_nodata -9999\n",
    "!gdalinfo merge.tif"
   ]
  },
  {
   "cell_type": "code",
   "execution_count": 3,
   "id": "98777904",
   "metadata": {},
   "outputs": [
    {
     "name": "stdout",
     "output_type": "stream",
     "text": [
      "Input file size is 7201, 7201\n",
      "0...10...20...30...40...50...60...70...80...90...100 - done.\n"
     ]
    }
   ],
   "source": [
    "#COG\n",
    "!gdal_translate -of COG merged.vrt merged_cog.tiff -co COMPRESS=DEFLATE -co PREDICTOR=YES -co NUM_THREADS=ALL_CPUS -a_nodata -9999"
   ]
  },
  {
   "cell_type": "markdown",
   "id": "0baa3206",
   "metadata": {},
   "source": [
    "#Elevation Datas"
   ]
  },
  {
   "cell_type": "code",
   "execution_count": null,
   "id": "4b5d48fe",
   "metadata": {},
   "outputs": [
    {
     "name": "stdout",
     "output_type": "stream",
     "text": [
      "0...10...20...30...40...50...60...70...80...90...100 - done.\n",
      "0...10...20...30...40...50...60...70...80...90...100 - done.\n"
     ]
    }
   ],
   "source": [
    "#hillshade\n",
    "!gdaldem hillshade merged.tif hillshaed.tif -s 111120\n",
    "!gdaldem hillshade merged.tif hillshade_combined.tif -s 111120 -multidirectional"
   ]
  },
  {
   "cell_type": "code",
   "execution_count": 14,
   "id": "e2fba62e",
   "metadata": {},
   "outputs": [
    {
     "name": "stdout",
     "output_type": "stream",
     "text": [
      "Overwriting colormap.txt\n"
     ]
    }
   ],
   "source": [
    "%%writefile colormap.txt\n",
    "#color relief\n",
    "1000,101,146,82\n",
    "1500,190,202,130\n",
    "2000,241,225,145\n",
    "2500,244,200,126\n",
    "3000,197,147,117\n",
    "4000,204,169,170\n",
    "5000,251,238,253\n",
    "6000,255,255,255\n"
   ]
  },
  {
   "cell_type": "code",
   "execution_count": 18,
   "id": "1bfe949b",
   "metadata": {},
   "outputs": [
    {
     "name": "stdout",
     "output_type": "stream",
     "text": [
      "0...10...20...30...40...50...60...70...80...90...100 - done.\n",
      "Input file size is 7201, 7201\n",
      "0...10...20...30...40...50...60...70...80...90...100 - done.\n"
     ]
    },
    {
     "name": "stderr",
     "output_type": "stream",
     "text": [
      "Warning 1: for band 1, nodata value has been clamped to 0, the original value being out of range.\n",
      "Warning 1: for band 2, nodata value has been clamped to 0, the original value being out of range.\n",
      "Warning 1: for band 3, nodata value has been clamped to 0, the original value being out of range.\n"
     ]
    }
   ],
   "source": [
    "!gdaldem color-relief merged.tif colormap.txt colorized.tif\n",
    "#NO Values\n",
    "!gdal_translate -of GTiff colorized.tif compress_colorized.tif -co COMPRESS=DEFLATE -co TILED=YES -co PREDICTOR=2 -a_nodata -9999\n"
   ]
  },
  {
   "cell_type": "code",
   "execution_count": 19,
   "id": "e3c71c2a",
   "metadata": {},
   "outputs": [
    {
     "name": "stdout",
     "output_type": "stream",
     "text": [
      "Input file size is 7201, 7201\n",
      "0...10...20...30...40...50...60...70...80...90...100 - done.\n"
     ]
    }
   ],
   "source": [
    "!gdal_translate -of PNG compress_colorized.tif converted.png"
   ]
  },
  {
   "cell_type": "code",
   "execution_count": null,
   "id": "41b9b417",
   "metadata": {},
   "outputs": [],
   "source": []
  }
 ],
 "metadata": {
  "kernelspec": {
   "display_name": "webgisbackend",
   "language": "python",
   "name": "python3"
  },
  "language_info": {
   "codemirror_mode": {
    "name": "ipython",
    "version": 3
   },
   "file_extension": ".py",
   "mimetype": "text/x-python",
   "name": "python",
   "nbconvert_exporter": "python",
   "pygments_lexer": "ipython3",
   "version": "3.13.5"
  }
 },
 "nbformat": 4,
 "nbformat_minor": 5
}
