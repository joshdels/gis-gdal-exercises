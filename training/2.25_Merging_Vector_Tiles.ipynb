{
 "cells": [
  {
   "cell_type": "markdown",
   "id": "29e816f0",
   "metadata": {},
   "source": [
    "# Vector Tiles"
   ]
  },
  {
   "cell_type": "code",
   "execution_count": null,
   "id": "ecad6d17",
   "metadata": {},
   "outputs": [],
   "source": [
    "import os\n",
    "os.chdir(r\"D:\\2. AREAS\\JUPYTER\\gdal-tools\\earthquakes\")\n",
    "os.getcwd()"
   ]
  },
  {
   "cell_type": "code",
   "execution_count": null,
   "id": "8bdbac49",
   "metadata": {},
   "outputs": [],
   "source": [
    "!python %CONDA_PREFIX%\\Scripts\\ogrmerge.py -o earthquakes.gpkg *.geojson"
   ]
  },
  {
   "cell_type": "code",
   "execution_count": null,
   "id": "51019add",
   "metadata": {},
   "outputs": [],
   "source": [
    "!python %CONDA_PREFIX%\\Scripts\\ogrmerge.py -o earthquakes.gpkg *.geojson"
   ]
  },
  {
   "cell_type": "code",
   "execution_count": null,
   "id": "51b64055",
   "metadata": {},
   "outputs": [],
   "source": [
    "!python %CONDA_PREFIX%\\Scripts\\ogrmerge.py -o earthquakess.gpkg *.geojson -single -nln all_earthquakes -overwrite_ds"
   ]
  },
  {
   "cell_type": "code",
   "execution_count": null,
   "id": "89ef7fe6",
   "metadata": {},
   "outputs": [],
   "source": [
    "!ogrinfo earthquakes.gpkg 2020_01 -al -so"
   ]
  },
  {
   "cell_type": "code",
   "execution_count": 15,
   "id": "16bb1191",
   "metadata": {},
   "outputs": [
    {
     "name": "stderr",
     "output_type": "stream",
     "text": [
      "Warning 1: Field mag_45.gap: Lossy conversion occurred when trying to set 32 bit integer field from real value 28.07.\n",
      "Warning 1: Field mag_45.gap: Lossy conversion occurred when trying to set 32 bit integer field from real value 47.159999999999997.\n",
      "Warning 1: Field mag_45.gap: Lossy conversion occurred when trying to set 32 bit integer field from real value 49.32.\n",
      "Warning 1: Field mag_45.gap: Lossy conversion occurred when trying to set 32 bit integer field from real value 47.600000000000001.\n",
      "Warning 1: Field mag_45.gap: Lossy conversion occurred when trying to set 32 bit integer field from real value 46.810000000000002.\n",
      "Warning 1: Field mag_45.gap: Lossy conversion occurred when trying to set 32 bit integer field from real value 51.899999999999999.\n",
      "Warning 1: Field mag_45.gap: Lossy conversion occurred when trying to set 32 bit integer field from real value 49.799999999999997.\n",
      "Warning 1: Field mag_45.gap: Lossy conversion occurred when trying to set 32 bit integer field from real value 43.490000000000002.\n",
      "Warning 1: Field mag_45.gap: Lossy conversion occurred when trying to set 32 bit integer field from real value 48.439999999999998.\n",
      "Warning 1: Field mag_45.gap: Lossy conversion occurred when trying to set 32 bit integer field from real value 46.649999999999999.\n",
      "Warning 1: Field mag_45.gap: Lossy conversion occurred when trying to set 32 bit integer field from real value 47.149999999999999.\n",
      "Warning 1: Field mag_45.gap: Lossy conversion occurred when trying to set 32 bit integer field from real value 43.509999999999998.\n",
      "Warning 1: Field mag_45.gap: Lossy conversion occurred when trying to set 32 bit integer field from real value 47.969999999999999.\n",
      "Warning 1: Field mag_45.gap: Lossy conversion occurred when trying to set 32 bit integer field from real value 55.789999999999999.\n",
      "Warning 1: Field mag_45.gap: Lossy conversion occurred when trying to set 32 bit integer field from real value 44.32.\n",
      "Warning 1: Field mag_45.gap: Lossy conversion occurred when trying to set 32 bit integer field from real value 50.719999999999999.\n",
      "Warning 1: Field mag_45.gap: Lossy conversion occurred when trying to set 32 bit integer field from real value 32.659999999999997.\n",
      "Warning 1: Field mag_45.gap: Lossy conversion occurred when trying to set 32 bit integer field from real value 48.549999999999997.\n",
      "Warning 1: Field mag_45.gap: Lossy conversion occurred when trying to set 32 bit integer field from real value 38.450000000000003.\n",
      "Warning 1: Field mag_45.gap: Lossy conversion occurred when trying to set 32 bit integer field from real value 42.759999999999998.\n",
      "Warning 1: Field mag_45.gap: Lossy conversion occurred when trying to set 32 bit integer field from real value 43.009999999999998.\n",
      "Warning 1: Field mag_45.gap: Lossy conversion occurred when trying to set 32 bit integer field from real value 41.689999999999998.\n",
      "Warning 1: Field mag_45.gap: Lossy conversion occurred when trying to set 32 bit integer field from real value 42.280000000000001.\n"
     ]
    }
   ],
   "source": [
    "!ogr2ogr -f GPKG earthquakes_filtered.gpkg earthquakes.gpkg -where \"mag >= 4.5\" -nln mag_45\n"
   ]
  },
  {
   "cell_type": "code",
   "execution_count": null,
   "id": "0436750b",
   "metadata": {},
   "outputs": [],
   "source": [
    "\n",
    "!python %CONDA_PREFIX%\\Scripts\\ogrmerge.py -o earthquakes.gpkg *.geojson -where \"mag >= 4.5\" -update -nln mag_45"
   ]
  },
  {
   "cell_type": "code",
   "execution_count": null,
   "id": "74ebba76",
   "metadata": {},
   "outputs": [],
   "source": []
  }
 ],
 "metadata": {
  "kernelspec": {
   "display_name": "webgisbackend",
   "language": "python",
   "name": "python3"
  },
  "language_info": {
   "codemirror_mode": {
    "name": "ipython",
    "version": 3
   },
   "file_extension": ".py",
   "mimetype": "text/x-python",
   "name": "python",
   "nbconvert_exporter": "python",
   "pygments_lexer": "ipython3",
   "version": "3.13.5"
  }
 },
 "nbformat": 4,
 "nbformat_minor": 5
}
