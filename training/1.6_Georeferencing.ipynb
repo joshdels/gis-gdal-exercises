{
 "cells": [
  {
   "cell_type": "markdown",
   "id": "8a1bd7b5",
   "metadata": {},
   "source": [
    "# Georeferencing "
   ]
  },
  {
   "cell_type": "code",
   "execution_count": 4,
   "id": "06df4818",
   "metadata": {},
   "outputs": [
    {
     "data": {
      "text/plain": [
       "'D:\\\\2. AREAS\\\\JUPYTER\\\\gdal-tools'"
      ]
     },
     "execution_count": 4,
     "metadata": {},
     "output_type": "execute_result"
    }
   ],
   "source": [
    "import os\n",
    "os.chdir(r\"D:\\2. AREAS\\JUPYTER\\gdal-tools\")\n",
    "os.getcwd()"
   ]
  },
  {
   "cell_type": "code",
   "execution_count": 5,
   "id": "892ba088",
   "metadata": {},
   "outputs": [
    {
     "name": "stdout",
     "output_type": "stream",
     "text": [
      "Driver: JPEG/JPEG JFIF\n",
      "Files: earth_at_night.jpg\n",
      "Size is 13500, 6750\n",
      "Image Structure Metadata:\n",
      "  SOURCE_COLOR_SPACE=YCbCr\n",
      "  INTERLEAVE=PIXEL\n",
      "  COMPRESSION=JPEG\n",
      "  JPEG_QUALITY=92\n",
      "Corner Coordinates:\n",
      "Upper Left  (    0.0,    0.0)\n",
      "Lower Left  (    0.0, 6750.0)\n",
      "Upper Right (13500.0,    0.0)\n",
      "Lower Right (13500.0, 6750.0)\n",
      "Center      ( 6750.0, 3375.0)\n",
      "Band 1 Block=13500x1 Type=Byte, ColorInterp=Red\n",
      "  Overviews: 6750x3375, 3375x1688, 1688x844\n",
      "  Image Structure Metadata:\n",
      "    COMPRESSION=JPEG\n",
      "Band 2 Block=13500x1 Type=Byte, ColorInterp=Green\n",
      "  Overviews: 6750x3375, 3375x1688, 1688x844\n",
      "  Image Structure Metadata:\n",
      "    COMPRESSION=JPEG\n",
      "Band 3 Block=13500x1 Type=Byte, ColorInterp=Blue\n",
      "  Overviews: 6750x3375, 3375x1688, 1688x844\n",
      "  Image Structure Metadata:\n",
      "    COMPRESSION=JPEG\n"
     ]
    }
   ],
   "source": [
    "!gdalinfo earth_at_night.jpg"
   ]
  },
  {
   "cell_type": "code",
   "execution_count": 7,
   "id": "32ba1420",
   "metadata": {},
   "outputs": [
    {
     "name": "stdout",
     "output_type": "stream",
     "text": [
      "Input file size is 13500, 6750\n",
      "0...10...20...30...40...50...60...70...80...90...100 - done.\n"
     ]
    }
   ],
   "source": [
    "#translating\n",
    "!gdal_translate -a_srs EPSG:4326 -a_ullr -180 90 180 -90 earth_at_night.jpg earth_at_night.tif -co COMPRESS=JPEG -co TILED=YES -co PHOTOMETRIC=RGB"
   ]
  },
  {
   "cell_type": "markdown",
   "id": "fa8f3040",
   "metadata": {},
   "source": [
    "### Ground Control Points (GCP)"
   ]
  },
  {
   "cell_type": "code",
   "execution_count": 8,
   "id": "25de5e7f",
   "metadata": {},
   "outputs": [
    {
     "name": "stdout",
     "output_type": "stream",
     "text": [
      "Input file size is 3957, 3071\n",
      "0...10...20...30...40...50...60...70...80...90...100 - done.\n"
     ]
    }
   ],
   "source": [
    "!gdal_translate -gcp 418 893 70 15 -gcp 380 2432 70 5 -gcp 3453 2434  90 5 -gcp 3407 895 90 15 -gcp 2662 911 85 15 1870_southern-india.jpg india_with_gcp.tif"
   ]
  },
  {
   "cell_type": "code",
   "execution_count": 11,
   "id": "1c425d54",
   "metadata": {},
   "outputs": [
    {
     "name": "stdout",
     "output_type": "stream",
     "text": [
      "Creating output file that is 5241P x 4012L.\n",
      "Processing india_with_gcp.tif [1/1] : 0...10...20...30...40...50...60...70...80...90...100 - done.\n"
     ]
    }
   ],
   "source": [
    "!gdalwarp -t_srs EPSG:4042 -order 1 -tr 0.005 0.005 india_with_gcp.tif india-reporjected-polynomial.tif -co COMPRESS=JPEG -co JPEG_QUALITY=50 -co PHOTOMETRIC=YCBCR"
   ]
  },
  {
   "cell_type": "code",
   "execution_count": null,
   "id": "779dd143",
   "metadata": {},
   "outputs": [
    {
     "data": {
      "text/plain": [
       "'D:\\\\2. AREAS\\\\JUPYTER\\\\gdal-tools\\\\london_1m_dsm'"
      ]
     },
     "execution_count": 15,
     "metadata": {},
     "output_type": "execute_result"
    }
   ],
   "source": [
    "#exercise Assignments\n",
    "import os\n",
    "os.chdir(r\"D:\\2. AREAS\\JUPYTER\\gdal-tools\\london_1m_dsm\")\n",
    "os.getcwd()\n"
   ]
  },
  {
   "cell_type": "code",
   "execution_count": 16,
   "id": "7c07598e",
   "metadata": {},
   "outputs": [],
   "source": [
    "!dir /b *.asc > filelist.txt"
   ]
  },
  {
   "cell_type": "code",
   "execution_count": 17,
   "id": "97a91566",
   "metadata": {},
   "outputs": [
    {
     "name": "stdout",
     "output_type": "stream",
     "text": [
      "0...10...20...30...40...50...60...70...80...90...100 - done.\n"
     ]
    }
   ],
   "source": [
    "!gdalbuildvrt -addalpha -input_file_list filelist.txt london_1m_dsm.vrt"
   ]
  },
  {
   "cell_type": "code",
   "execution_count": null,
   "id": "fe884daa",
   "metadata": {},
   "outputs": [
    {
     "name": "stdout",
     "output_type": "stream",
     "text": [
      "Input file size is 5000, 5000\n",
      "0...10...20...30...40...50...60...70...80...90...100 - done.\n"
     ]
    }
   ],
   "source": [
    "#compressed\n",
    "!gdal_translate -a_srs EPSG:27700 -ot Float32 london_1m_dsm.vrt london_1m_dsm.tif -co TILED=YES -co COMPRESS=DEFLATE"
   ]
  },
  {
   "cell_type": "code",
   "execution_count": 20,
   "id": "06cf026c",
   "metadata": {},
   "outputs": [
    {
     "name": "stdout",
     "output_type": "stream",
     "text": [
      "Input file size is 5000, 5000\n",
      "0...10...20...30...40...50...60...70...80...90...100 - done.\n"
     ]
    }
   ],
   "source": [
    "#uncompressed\n",
    "!gdal_translate -a_srs EPSG:27700 -ot Float32 london_1m_dsm.vrt london_1m_dsm_compressed.tif "
   ]
  },
  {
   "cell_type": "code",
   "execution_count": null,
   "id": "e530b3d4",
   "metadata": {},
   "outputs": [],
   "source": []
  }
 ],
 "metadata": {
  "kernelspec": {
   "display_name": "webgisbackend",
   "language": "python",
   "name": "python3"
  },
  "language_info": {
   "codemirror_mode": {
    "name": "ipython",
    "version": 3
   },
   "file_extension": ".py",
   "mimetype": "text/x-python",
   "name": "python",
   "nbconvert_exporter": "python",
   "pygments_lexer": "ipython3",
   "version": "3.13.5"
  }
 },
 "nbformat": 4,
 "nbformat_minor": 5
}
