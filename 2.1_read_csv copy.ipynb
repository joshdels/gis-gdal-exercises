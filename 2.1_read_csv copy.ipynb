{
 "cells": [
  {
   "cell_type": "markdown",
   "id": "29e816f0",
   "metadata": {},
   "source": [
    "# Reading CSV"
   ]
  },
  {
   "cell_type": "code",
   "execution_count": 1,
   "id": "ecad6d17",
   "metadata": {},
   "outputs": [
    {
     "data": {
      "text/plain": [
       "'D:\\\\2. AREAS\\\\JUPYTER\\\\gdal-tools'"
      ]
     },
     "execution_count": 1,
     "metadata": {},
     "output_type": "execute_result"
    }
   ],
   "source": [
    "import os\n",
    "os.chdir(r\"D:\\2. AREAS\\JUPYTER\\gdal-tools\")\n",
    "os.getcwd()"
   ]
  },
  {
   "cell_type": "code",
   "execution_count": 2,
   "id": "55e8b761",
   "metadata": {},
   "outputs": [
    {
     "name": "stdout",
     "output_type": "stream",
     "text": [
      "INFO: Open of `worldcities.csv'\n",
      "      using driver `CSV' successful.\n",
      "1: worldcities (None)\n"
     ]
    }
   ],
   "source": [
    "!ogrinfo worldcities.csv"
   ]
  },
  {
   "cell_type": "code",
   "execution_count": 3,
   "id": "8f2e754a",
   "metadata": {},
   "outputs": [
    {
     "name": "stdout",
     "output_type": "stream",
     "text": [
      "INFO: Open of `worldcities.csv'\n",
      "      using driver `CSV' successful.\n",
      "\n",
      "Layer name: worldcities\n",
      "Geometry: None\n",
      "Feature Count: 15493\n",
      "Layer SRS WKT:\n",
      "(unknown)\n",
      "city: String (0.0)\n",
      "city_ascii: String (0.0)\n",
      "lat: String (0.0)\n",
      "lng: String (0.0)\n",
      "country: String (0.0)\n",
      "iso2: String (0.0)\n",
      "iso3: String (0.0)\n",
      "admin_name: String (0.0)\n",
      "capital: String (0.0)\n",
      "population: String (0.0)\n",
      "id: String (0.0)\n"
     ]
    }
   ],
   "source": [
    "!ogrinfo -so -al worldcities.csv"
   ]
  },
  {
   "cell_type": "markdown",
   "id": "d0c53560",
   "metadata": {},
   "source": [
    "### Point data layer"
   ]
  },
  {
   "cell_type": "code",
   "execution_count": 6,
   "id": "a3f38e16",
   "metadata": {},
   "outputs": [
    {
     "name": "stdout",
     "output_type": "stream",
     "text": [
      "INFO: Open of `worldcities.csv'\n",
      "      using driver `CSV' successful.\n",
      "\n",
      "Layer name: worldcities\n",
      "Geometry: Point\n",
      "Feature Count: 15493\n",
      "Extent: (-179.590000, -54.933300) - (179.383300, 82.483300)\n",
      "Layer SRS WKT:\n",
      "(unknown)\n",
      "city: String (0.0)\n",
      "city_ascii: String (0.0)\n",
      "lat: Real (0.0)\n",
      "lng: Real (0.0)\n",
      "country: String (0.0)\n",
      "iso2: String (0.0)\n",
      "iso3: String (0.0)\n",
      "admin_name: String (0.0)\n",
      "capital: String (0.0)\n",
      "population: String (0.0)\n",
      "id: String (0.0)\n"
     ]
    }
   ],
   "source": [
    "!ogrinfo -so -al worldcities.csv -oo X_POSSIBLE_NAMES=lng -oo Y_POSSIBLE_NAMES=lat"
   ]
  },
  {
   "cell_type": "code",
   "execution_count": 8,
   "id": "d3693637",
   "metadata": {},
   "outputs": [],
   "source": [
    " !ogr2ogr -f GPKG worldcities.gpkg worldcities.csv -oo X_POSSIBLE_NAMES=lng -oo Y_POSSIBLE_NAMES=lat"
   ]
  },
  {
   "cell_type": "code",
   "execution_count": null,
   "id": "25919ca9",
   "metadata": {},
   "outputs": [
    {
     "name": "stderr",
     "output_type": "stream",
     "text": [
      "Warning 1: The filename extension should be 'gpkg' instead of 'geojson' to conform to the GPKG specification.\n"
     ]
    }
   ],
   "source": [
    "# Assign CRS\n",
    "!ogr2ogr -f GPKG worldcities.gpkg worldcities.csv -oo X_POSSIBLE_NAMES=lng -oo Y_POSSIBLE_NAMES=lat -a_srs EPSG:4326"
   ]
  },
  {
   "cell_type": "code",
   "execution_count": null,
   "id": "5014a19e",
   "metadata": {},
   "outputs": [],
   "source": []
  }
 ],
 "metadata": {
  "kernelspec": {
   "display_name": "webgisbackend",
   "language": "python",
   "name": "python3"
  },
  "language_info": {
   "codemirror_mode": {
    "name": "ipython",
    "version": 3
   },
   "file_extension": ".py",
   "mimetype": "text/x-python",
   "name": "python",
   "nbconvert_exporter": "python",
   "pygments_lexer": "ipython3",
   "version": "3.13.5"
  }
 },
 "nbformat": 4,
 "nbformat_minor": 5
}
