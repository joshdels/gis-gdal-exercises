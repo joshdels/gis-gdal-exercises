{
 "cells": [
  {
   "cell_type": "markdown",
   "id": "a9fd8105",
   "metadata": {},
   "source": [
    "# Satellite Imagery"
   ]
  },
  {
   "cell_type": "code",
   "execution_count": 3,
   "id": "c703f02a",
   "metadata": {},
   "outputs": [
    {
     "data": {
      "text/plain": [
       "'D:\\\\2. AREAS\\\\JUPYTER\\\\gdal-tools\\\\landsat8'"
      ]
     },
     "execution_count": 3,
     "metadata": {},
     "output_type": "execute_result"
    }
   ],
   "source": [
    "import os\n",
    "# Change notebook working directory\n",
    "os.chdir(r\"D:\\2. AREAS\\JUPYTER\\gdal-tools\\landsat8\")\n",
    "os.getcwd()   # Shows current working directory"
   ]
  },
  {
   "cell_type": "code",
   "execution_count": null,
   "id": "2ffb5105",
   "metadata": {},
   "outputs": [],
   "source": [
    "!gdalbuildvrt -o rgb.vrt -separate RT_LC08_L1TP_137042_20190920_20190926_01_T1_2019-09-20_B4.tif RT_LC08_L1TP_137042_20190920_20190926_01_T1_2019-09-20_B3.tif RT_LC08_L1TP_137042_20190920_20190926_01_T1_2019-09-20_B2.tif"
   ]
  },
  {
   "cell_type": "code",
   "execution_count": null,
   "id": "6dab0138",
   "metadata": {},
   "outputs": [],
   "source": [
    "!gdal_translate rgb.vrt rgb.tif -co PHOTOMETRIC=RGB -co COMPRESS=DEFLATE"
   ]
  },
  {
   "cell_type": "code",
   "execution_count": null,
   "id": "5c4152a2",
   "metadata": {},
   "outputs": [],
   "source": [
    "#Scretch for better visualization\n",
    "!gdal_translate -scale 0 0.3 0 255 -ot Byte rgb.tif rgb_stretch.tif"
   ]
  },
  {
   "cell_type": "markdown",
   "id": "cdd0644e",
   "metadata": {},
   "source": [
    "### Raster Algebra"
   ]
  },
  {
   "cell_type": "code",
   "execution_count": null,
   "id": "43a83005",
   "metadata": {},
   "outputs": [],
   "source": [
    "!gdalinfo -stats RT_LC08_L1TP_137042_20190920_20190926_01_T1_2019-09-20_B4.tif"
   ]
  },
  {
   "cell_type": "code",
   "execution_count": null,
   "id": "b1f311a8",
   "metadata": {},
   "outputs": [],
   "source": [
    "!python %CONDA_PREFIX%\\Scripts\\gdal_calc.py -A RT_LC08_L1TP_137042_20190920_20190926_01_T1_2019-09-20_B5.tif -B RT_LC08_L1TP_137042_20190920_20190926_01_T1_2019-09-20_B4.tif --outfile ndvi.tif --calc=\"(A-B)/(A+B)\" --NoDataValue=-999"
   ]
  },
  {
   "cell_type": "code",
   "execution_count": null,
   "id": "79a63ccf",
   "metadata": {},
   "outputs": [],
   "source": [
    "#exercise\n",
    "!python %CONDA_PREFIX%\\Scripts\\gdal_calc.py -A RT_LC08_L1TP_137042_20190920_20190926_01_T1_2019-09-20_B3.tif -B RT_LC08_L1TP_137042_20190920_20190926_01_T1_2019-09-20_B2.tif --outfile ngir.tif --calc=\"(A-B)/(A+B)\" --NoDataValue=-999"
   ]
  },
  {
   "cell_type": "code",
   "execution_count": null,
   "id": "a0f4b947",
   "metadata": {},
   "outputs": [],
   "source": [
    "!gdal_translate -scale 0 0.3 0 255 -ot Byte ngir.tif ngir_stretch.tif"
   ]
  },
  {
   "cell_type": "markdown",
   "id": "820aa486",
   "metadata": {},
   "source": [
    "### Pansharpening"
   ]
  },
  {
   "cell_type": "code",
   "execution_count": 4,
   "id": "f11efac4",
   "metadata": {},
   "outputs": [
    {
     "name": "stdout",
     "output_type": "stream",
     "text": [
      "0...10...20...30...40...50...60...70...80...90...100 - done.\n"
     ]
    }
   ],
   "source": [
    "#exercise\n",
    "!python %CONDA_PREFIX%\\Scripts\\gdal_pansharpen.py RT_LC08_L1TP_137042_20190920_20190926_01_T1_2019-09-20_B8.tif rgb.tif pansharpened.tif -r bilinear -co COMPRESS=DEFLATE -co PHOTOMETRIC=RGB"
   ]
  },
  {
   "cell_type": "code",
   "execution_count": 5,
   "id": "654bb468",
   "metadata": {},
   "outputs": [
    {
     "name": "stdout",
     "output_type": "stream",
     "text": [
      "Input file size is 15401, 15721\n",
      "0...10...20...30...40...50...60...70...80...90...100 - done.\n"
     ]
    },
    {
     "name": "stderr",
     "output_type": "stream",
     "text": [
      "Warning 1: for band 1, nodata value has been clamped to 0, the original value being out of range.\n",
      "Warning 1: for band 2, nodata value has been clamped to 0, the original value being out of range.\n",
      "Warning 1: for band 3, nodata value has been clamped to 0, the original value being out of range.\n"
     ]
    }
   ],
   "source": [
    "!gdal_translate -scale 0 0.3 0 255 -ot Byte pansharpened.tif pansharpened_stretch.tif"
   ]
  },
  {
   "cell_type": "markdown",
   "id": "fecee099",
   "metadata": {},
   "source": []
  }
 ],
 "metadata": {
  "kernelspec": {
   "display_name": "webgisbackend",
   "language": "python",
   "name": "python3"
  },
  "language_info": {
   "codemirror_mode": {
    "name": "ipython",
    "version": 3
   },
   "file_extension": ".py",
   "mimetype": "text/x-python",
   "name": "python",
   "nbconvert_exporter": "python",
   "pygments_lexer": "ipython3",
   "version": "3.13.5"
  }
 },
 "nbformat": 4,
 "nbformat_minor": 5
}
