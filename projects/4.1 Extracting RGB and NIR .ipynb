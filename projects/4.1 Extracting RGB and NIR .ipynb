{
 "cells": [
  {
   "cell_type": "markdown",
   "id": "29e816f0",
   "metadata": {},
   "source": [
    "Raster CLI and API sidebyside"
   ]
  },
  {
   "cell_type": "code",
   "execution_count": 1,
   "id": "ecad6d17",
   "metadata": {},
   "outputs": [
    {
     "data": {
      "text/plain": [
       "'D:\\\\1. PROJECT\\\\satellite_etl\\\\satellite\\\\reference image'"
      ]
     },
     "execution_count": 1,
     "metadata": {},
     "output_type": "execute_result"
    }
   ],
   "source": [
    "import os\n",
    "os.chdir(r\"D:\\1. PROJECT\\satellite_etl\\satellite\\reference image\")\n",
    "os.getcwd()"
   ]
  },
  {
   "cell_type": "markdown",
   "id": "983af7d7",
   "metadata": {},
   "source": [
    "# Getting RGB and NIR in the satellite data"
   ]
  },
  {
   "cell_type": "markdown",
   "id": "0ce19f36",
   "metadata": {},
   "source": [
    "### CLI "
   ]
  },
  {
   "cell_type": "code",
   "execution_count": null,
   "id": "726ddc6d",
   "metadata": {},
   "outputs": [],
   "source": [
    "!gdalinfo oldimage.tif"
   ]
  },
  {
   "cell_type": "code",
   "execution_count": 18,
   "id": "378876db",
   "metadata": {},
   "outputs": [
    {
     "name": "stdout",
     "output_type": "stream",
     "text": [
      "Input file size is 2550, 2809\n",
      "0...10...20...30...40...50...60...70...80...90...100 - done.\n"
     ]
    }
   ],
   "source": [
    "!gdal_translate -b 1 -b 2 -b 3 oldimage.tif rgb.tif"
   ]
  },
  {
   "cell_type": "code",
   "execution_count": 20,
   "id": "4c91a548",
   "metadata": {},
   "outputs": [
    {
     "name": "stdout",
     "output_type": "stream",
     "text": [
      "Input file size is 2550, 2809\n",
      "0...10...20...30...40...50...60...70...80...90...100 - done.\n"
     ]
    }
   ],
   "source": [
    "!gdal_translate -b 4 oldimage.tif nir.tif"
   ]
  },
  {
   "cell_type": "markdown",
   "id": "212f9cf1",
   "metadata": {},
   "source": [
    "### Using osgeo_gdal"
   ]
  },
  {
   "cell_type": "code",
   "execution_count": 21,
   "id": "0f1e9296",
   "metadata": {},
   "outputs": [],
   "source": [
    "from osgeo import gdal\n",
    "\n",
    "infile = \"oldimage.tif\"\n",
    "ds = gdal.Open(infile)\n",
    "\n",
    "driver = gdal.GetDriverByName(\"GTiff\")\n",
    "rgb_ds = driver.Create(\"rgb_python.tif\", ds.RasterXSize, ds.RasterYSize, 3, gdal.GDT_UInt16)\n",
    "rgb_ds.SetProjection(ds.GetProjection())\n",
    "rgb_ds.SetGeoTransform(ds.GetGeoTransform())\n",
    "rgb_ds.GetRasterBand(1).WriteArray(ds.GetRasterBand(1).ReadAsArray())  # Red\n",
    "rgb_ds.GetRasterBand(2).WriteArray(ds.GetRasterBand(2).ReadAsArray())  # Green\n",
    "rgb_ds.GetRasterBand(3).WriteArray(ds.GetRasterBand(3).ReadAsArray())  # Blue\n",
    "rgb_ds = None  # close\n",
    "\n",
    "# --- Save NIR ---\n",
    "nir_ds = driver.Create(\"nir_python.tif\", ds.RasterXSize, ds.RasterYSize, 1, gdal.GDT_UInt16)\n",
    "nir_ds.SetProjection(ds.GetProjection())\n",
    "nir_ds.SetGeoTransform(ds.GetGeoTransform())\n",
    "nir_ds.GetRasterBand(1).WriteArray(ds.GetRasterBand(4).ReadAsArray())  # NIR\n",
    "nir_ds = None  # close\n"
   ]
  },
  {
   "cell_type": "markdown",
   "id": "e2ddf178",
   "metadata": {},
   "source": [
    "### Using Rasterio"
   ]
  },
  {
   "cell_type": "code",
   "execution_count": null,
   "id": "199bc226",
   "metadata": {},
   "outputs": [],
   "source": [
    "import rasterio\n",
    "import numpy as np\n",
    "\n",
    "infile = \"oldimage.tif\"\n",
    "\n",
    "with rasterio.open(infile) as src:\n",
    "    profile = src.profile\n",
    "\n",
    "    # Read bands\n",
    "    red   = src.read(1)\n",
    "    green = src.read(2)\n",
    "    blue  = src.read(3)\n",
    "    nir   = src.read(4)\n",
    "\n",
    "    # --- Save RGB ---\n",
    "    rgb_profile = profile.copy()\n",
    "    rgb_profile.update(count=3)  # 3-band output\n",
    "    with rasterio.open(\"rgb.tif\", \"w\", **rgb_profile) as dst:\n",
    "        dst.write(red, 1)\n",
    "        dst.write(green, 2)\n",
    "        dst.write(blue, 3)\n",
    "\n",
    "    # --- Save NIR ---\n",
    "    nir_profile = profile.copy()\n",
    "    nir_profile.update(count=1)  # single-band output\n",
    "    with rasterio.open(\"nir.tif\", \"w\", **nir_profile) as dst:\n",
    "        dst.write(nir, 1)\n"
   ]
  }
 ],
 "metadata": {
  "kernelspec": {
   "display_name": "webgisbackend",
   "language": "python",
   "name": "python3"
  },
  "language_info": {
   "codemirror_mode": {
    "name": "ipython",
    "version": 3
   },
   "file_extension": ".py",
   "mimetype": "text/x-python",
   "name": "python",
   "nbconvert_exporter": "python",
   "pygments_lexer": "ipython3",
   "version": "3.13.5"
  }
 },
 "nbformat": 4,
 "nbformat_minor": 5
}
