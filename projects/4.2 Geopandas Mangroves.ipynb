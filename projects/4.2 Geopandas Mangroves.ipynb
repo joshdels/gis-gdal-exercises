{
 "cells": [
  {
   "cell_type": "markdown",
   "id": "29e816f0",
   "metadata": {},
   "source": [
    "Raster CLI and API sidebyside"
   ]
  },
  {
   "cell_type": "code",
   "execution_count": 1,
   "id": "ecad6d17",
   "metadata": {},
   "outputs": [
    {
     "data": {
      "text/plain": [
       "'C:\\\\Users\\\\deleo\\\\Downloads\\\\buffer'"
      ]
     },
     "execution_count": 1,
     "metadata": {},
     "output_type": "execute_result"
    }
   ],
   "source": [
    "import os\n",
    "os.chdir(r\"C:\\Users\\deleo\\Downloads\\buffer\")\n",
    "os.getcwd()"
   ]
  },
  {
   "cell_type": "code",
   "execution_count": 12,
   "id": "0679cf9e",
   "metadata": {},
   "outputs": [
    {
     "name": "stdout",
     "output_type": "stream",
     "text": [
      "                 class       area_m2     area_ha\n",
      "0 -9223372036854775808  1.254094e+05   12.540941\n",
      "1                   11  4.181822e+06  418.182208\n",
      "2                   12  3.365239e+06  336.523874\n",
      "3                   13  1.782688e+06  178.268832\n",
      "4                   21  5.578779e+04    5.578779\n",
      "5                   22  9.355284e+05   93.552835\n",
      "6                   23  1.341622e+06  134.162213\n",
      "7                   31  5.817962e+02    0.058180\n",
      "8                   32  2.592225e+04    2.592225\n",
      "9                   33  8.067575e+04    8.067575\n"
     ]
    },
    {
     "name": "stderr",
     "output_type": "stream",
     "text": [
      "C:\\Users\\deleo\\AppData\\Local\\Temp\\ipykernel_3912\\1280776801.py:49: RuntimeWarning: invalid value encountered in cast\n",
      "  \"class\": unique.astype(int),\n"
     ]
    }
   ],
   "source": [
    "from osgeo import gdal, ogr\n",
    "import numpy as np\n",
    "import  pandas as pd\n",
    "\n",
    "#input files\n",
    "raster_path = 'non_ahp_co_reproj.tif'\n",
    "shapefile_path = 'bufer_250m.shp'\n",
    "\n",
    "ds = gdal.Open(raster_path)\n",
    "band = ds.GetRasterBand(1)\n",
    "gt = ds.GetGeoTransform()\n",
    "nodata = band.GetNoDataValue()\n",
    "\n",
    "# Pixel Area\n",
    "pixel_width = gt[1]\n",
    "pixel_height = abs(gt[5])\n",
    "pixel_area = pixel_width * pixel_height\n",
    "\n",
    "#Opn shp\n",
    "driver = ogr.GetDriverByName(\"ESRI Shapefile\")\n",
    "shp = driver.Open(shapefile_path)\n",
    "layer = shp.GetLayer()\n",
    "\n",
    "# Mask\n",
    "mask_ds = gdal.GetDriverByName(\"MEM\").Create(\n",
    "    '', ds.RasterXSize, ds.RasterYSize, 1, gdal.GDT_Byte)\n",
    "mask_ds.SetGeoTransform(gt)\n",
    "mask_ds.SetProjection(ds.GetProjection())\n",
    "\n",
    "# Rasterize buffer\n",
    "gdal.RasterizeLayer(mask_ds, [1], layer, burn_values=[1])\n",
    "\n",
    "# Read data\n",
    "mask = mask_ds.GetRasterBand(1).ReadAsArray()\n",
    "data = band.ReadAsArray()\n",
    "\n",
    "# Apply mask\n",
    "masked = np.where(mask == 1, data, np.nan)\n",
    "\n",
    "# Get unique classes and pixel counts\n",
    "unique, counts = np.unique(masked[~np.isnan(masked)], return_counts=True)\n",
    "\n",
    "# Compute area\n",
    "areas_m2 = counts * pixel_area\n",
    "areas_ha = areas_m2 / 10000\n",
    "\n",
    "# Put into table\n",
    "df = pd.DataFrame({\n",
    "    \"class\": unique.astype(int),\n",
    "    \"area_m2\": areas_m2,\n",
    "    \"area_ha\": areas_ha\n",
    "})\n",
    "\n",
    "print(df)\n",
    "df.to_csv(\"non_ahp.csv\", index=False)"
   ]
  },
  {
   "cell_type": "code",
   "execution_count": null,
   "id": "ce3f8219",
   "metadata": {},
   "outputs": [],
   "source": [
    "!ogrinfo C:\\Users\\deleo\\Downloads\\buffer\\bufer_250m.shp -al -so"
   ]
  },
  {
   "cell_type": "markdown",
   "id": "2078efdf",
   "metadata": {},
   "source": [
    "### Clipping Raster in the buffer\n"
   ]
  },
  {
   "cell_type": "code",
   "execution_count": 21,
   "id": "95010e5f",
   "metadata": {},
   "outputs": [
    {
     "name": "stdout",
     "output_type": "stream",
     "text": [
      "Clipping with bufer_250m\n",
      "Clipping successful ahp_250m.tif\n"
     ]
    }
   ],
   "source": [
    "#files\n",
    "raster_path = 'ahp_co_reproj.tif'\n",
    "shapefile_path = 'bufer_250m.shp'\n",
    "output_path = \"ahp_250m.tif\"\n",
    "\n",
    "try: \n",
    "  shp = ogr.Open(shapefile_path)\n",
    "  layer= shp.GetLayer()\n",
    "  print(\"Clipping with\", layer.GetName())\n",
    "  \n",
    "  gdal.Warp(\n",
    "    output_path,\n",
    "    raster_path,\n",
    "    cutlineDSName=shapefile_path,\n",
    "    cropToCutline=\"true\"\n",
    "  )\n",
    "  print(\"Clipping successful \" + output_path)\n",
    "  \n",
    "except AttributeError:\n",
    "  print(\"No file exist, skipping gdal.Warp\")\n"
   ]
  },
  {
   "cell_type": "code",
   "execution_count": null,
   "id": "16662a8b",
   "metadata": {},
   "outputs": [],
   "source": []
  }
 ],
 "metadata": {
  "kernelspec": {
   "display_name": "webgisbackend",
   "language": "python",
   "name": "python3"
  },
  "language_info": {
   "codemirror_mode": {
    "name": "ipython",
    "version": 3
   },
   "file_extension": ".py",
   "mimetype": "text/x-python",
   "name": "python",
   "nbconvert_exporter": "python",
   "pygments_lexer": "ipython3",
   "version": "3.13.5"
  }
 },
 "nbformat": 4,
 "nbformat_minor": 5
}
