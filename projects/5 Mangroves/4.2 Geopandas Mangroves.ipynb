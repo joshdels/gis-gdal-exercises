{
 "cells": [
  {
   "cell_type": "markdown",
   "id": "29e816f0",
   "metadata": {},
   "source": [
    "Raster CLI and API sidebyside"
   ]
  },
  {
   "cell_type": "code",
   "execution_count": 25,
   "id": "ecad6d17",
   "metadata": {},
   "outputs": [],
   "source": [
    "import os\n",
    "os.chdir(r\"C:\\Users\\deleo\\Downloads\\buffer\")\n",
    "os.getcwd()\n",
    "\n",
    "from osgeo import gdal, ogr\n",
    "import numpy as np\n",
    "import  pandas as pd"
   ]
  },
  {
   "cell_type": "code",
   "execution_count": 24,
   "id": "0679cf9e",
   "metadata": {},
   "outputs": [
    {
     "name": "stderr",
     "output_type": "stream",
     "text": [
      "c:\\Users\\deleo\\miniconda3\\envs\\webgisbackend\\Lib\\site-packages\\osgeo\\gdal.py:311: FutureWarning: Neither gdal.UseExceptions() nor gdal.DontUseExceptions() has been explicitly called. In GDAL 4.0, exceptions will be enabled by default.\n",
      "  warnings.warn(\n"
     ]
    },
    {
     "name": "stdout",
     "output_type": "stream",
     "text": [
      "                 class       area_m2     area_ha\n",
      "0 -9223372036854775808  1.254094e+05   12.540941\n",
      "1                   11  4.181822e+06  418.182208\n",
      "2                   12  3.365239e+06  336.523874\n",
      "3                   13  1.782688e+06  178.268832\n",
      "4                   21  5.578779e+04    5.578779\n",
      "5                   22  9.355284e+05   93.552835\n",
      "6                   23  1.341622e+06  134.162213\n",
      "7                   31  5.817962e+02    0.058180\n",
      "8                   32  2.592225e+04    2.592225\n",
      "9                   33  8.067575e+04    8.067575\n"
     ]
    },
    {
     "name": "stderr",
     "output_type": "stream",
     "text": [
      "C:\\Users\\deleo\\AppData\\Local\\Temp\\ipykernel_7360\\1280776801.py:49: RuntimeWarning: invalid value encountered in cast\n",
      "  \"class\": unique.astype(int),\n"
     ]
    }
   ],
   "source": [
    "from osgeo import gdal, ogr\n",
    "import numpy as np\n",
    "import  pandas as pd\n",
    "\n",
    "#input files\n",
    "raster_path = 'non_ahp_co_reproj.tif'\n",
    "shapefile_path = 'bufer_250m.shp'\n",
    "\n",
    "ds = gdal.Open(raster_path)\n",
    "band = ds.GetRasterBand(1)\n",
    "gt = ds.GetGeoTransform()\n",
    "nodata = band.GetNoDataValue()\n",
    "\n",
    "# Pixel Area\n",
    "pixel_width = gt[1]\n",
    "pixel_height = abs(gt[5])\n",
    "pixel_area = pixel_width * pixel_height\n",
    "\n",
    "#Opn shp\n",
    "driver = ogr.GetDriverByName(\"ESRI Shapefile\")\n",
    "shp = driver.Open(shapefile_path)\n",
    "layer = shp.GetLayer()\n",
    "\n",
    "# Mask\n",
    "mask_ds = gdal.GetDriverByName(\"MEM\").Create(\n",
    "    '', ds.RasterXSize, ds.RasterYSize, 1, gdal.GDT_Byte)\n",
    "mask_ds.SetGeoTransform(gt)\n",
    "mask_ds.SetProjection(ds.GetProjection())\n",
    "\n",
    "# Rasterize buffer\n",
    "gdal.RasterizeLayer(mask_ds, [1], layer, burn_values=[1])\n",
    "\n",
    "# Read data\n",
    "mask = mask_ds.GetRasterBand(1).ReadAsArray()\n",
    "data = band.ReadAsArray()\n",
    "\n",
    "# Apply mask\n",
    "masked = np.where(mask == 1, data, np.nan)\n",
    "\n",
    "# Get unique classes and pixel counts\n",
    "unique, counts = np.unique(masked[~np.isnan(masked)], return_counts=True)\n",
    "\n",
    "# Compute area\n",
    "areas_m2 = counts * pixel_area\n",
    "areas_ha = areas_m2 / 10000\n",
    "\n",
    "# Put into table\n",
    "df = pd.DataFrame({\n",
    "    \"class\": unique.astype(int),\n",
    "    \"area_m2\": areas_m2,\n",
    "    \"area_ha\": areas_ha\n",
    "})\n",
    "\n",
    "print(df)\n",
    "df.to_csv(\"non_ahp.csv\", index=False)"
   ]
  },
  {
   "cell_type": "code",
   "execution_count": null,
   "id": "ce3f8219",
   "metadata": {},
   "outputs": [],
   "source": [
    "!ogrinfo C:\\Users\\deleo\\Downloads\\buffer\\bufer_250m.shp -al -so"
   ]
  },
  {
   "cell_type": "markdown",
   "id": "2078efdf",
   "metadata": {},
   "source": [
    "### Clipping Raster in the buffer\n"
   ]
  },
  {
   "cell_type": "code",
   "execution_count": 29,
   "id": "95010e5f",
   "metadata": {},
   "outputs": [
    {
     "name": "stdout",
     "output_type": "stream",
     "text": [
      "Clipping with bufer_250m\n",
      "Clipping successfully to ahp_250m.tif\n"
     ]
    }
   ],
   "source": [
    "#files\n",
    "raster_path = 'ahp_co_reproj.tif'\n",
    "shapefile_path = 'bufer_250m.shp'\n",
    "output_path = \"ahp_250m.tif\"\n",
    "\n",
    "try: \n",
    "  shp = ogr.Open(shapefile_path)\n",
    "  layer= shp.GetLayer()\n",
    "  print(\"Clipping with\", layer.GetName())\n",
    "  \n",
    "  gdal.Warp(\n",
    "    output_path,\n",
    "    raster_path,\n",
    "    cutlineDSName=shapefile_path,\n",
    "    cropToCutline=\"true\"\n",
    "  )\n",
    "  print(\"Clipping successfully to \" + output_path)\n",
    "  \n",
    "except Exception as e:\n",
    "  print(f\"An unexpected error occurred: {e}\")\n"
   ]
  },
  {
   "cell_type": "markdown",
   "id": "8e301f8f",
   "metadata": {},
   "source": [
    "Calculating the Area"
   ]
  },
  {
   "cell_type": "code",
   "execution_count": 17,
   "id": "16662a8b",
   "metadata": {},
   "outputs": [
    {
     "name": "stdout",
     "output_type": "stream",
     "text": [
      "Index(['DN', 'score', 'ADM4_EN', 'level_v2', 'Area', 'geometry', 'area_m2'], dtype='object')\n",
      "      ADM4_EN level_v2        area_m2\n",
      "0      Agusan      Low  168925.695099\n",
      "1      Agusan   Medium  211253.259792\n",
      "2     Bayabas     High   45780.881302\n",
      "3     Bayabas      Low  215327.023242\n",
      "4     Bayabas   Medium  302921.178118\n",
      "5      Bonbon     High   56628.680694\n",
      "6      Bonbon      Low  188708.818042\n",
      "7      Bonbon   Medium  241654.493557\n",
      "8        Bugo     High    3955.478157\n",
      "9        Bugo      Low  145757.161013\n",
      "10       Bugo   Medium  148660.293568\n",
      "11      Bulua     High    1460.151258\n",
      "12      Bulua      Low   96020.083928\n",
      "13      Bulua   Medium  177281.027943\n",
      "14     Cugman     High   35700.742118\n",
      "15     Cugman      Low  137891.405805\n",
      "16     Cugman   Medium  211246.885118\n",
      "17       Gusa     High   10559.816059\n",
      "18       Gusa      Low  182231.314096\n",
      "19       Gusa   Medium  181678.185930\n",
      "20  Kauswagan     High  323838.978385\n",
      "21  Kauswagan      Low   31526.593712\n",
      "22  Kauswagan   Medium  418404.624439\n",
      "23    Lapasan     High    8864.542703\n",
      "24    Lapasan      Low  102774.923046\n",
      "25    Lapasan   Medium  200164.562654\n",
      "26  Macabalan     High   24917.793164\n",
      "27  Macabalan      Low   19030.399715\n",
      "28  Macabalan   Medium  104208.943803\n",
      "29     Puerto      Low   20769.645200\n",
      "30     Puerto   Medium  137273.267943\n",
      "31     Tablon     High   71179.762569\n",
      "32     Tablon      Low  188594.031453\n",
      "33     Tablon   Medium  543359.915110\n",
      "CSV save successfully\n"
     ]
    }
   ],
   "source": [
    "import geopandas as gpd\n",
    "\n",
    "path = \"ahp_union.shp\"\n",
    "output_csv = \"ahp_union_report.csv\"\n",
    "\n",
    "try:\n",
    "  gdf = gpd.read_file(path)\n",
    "  gdf =gdf.to_crs(epsg=32651)\n",
    "  gdf['area_m2'] = gdf.geometry.area\n",
    "  print(gdf.columns)\n",
    "  agg = gdf.groupby(['ADM4_EN', 'level_v2'])['area_m2'].sum().reset_index()\n",
    "  print(agg)\n",
    "  agg.to_csv(output_csv, index=False)\n",
    "  print(\"CSV save successfully\")\n",
    "  \n",
    "except Exception as e:\n",
    "    print(f\"An unexpected error occurred: {e}\")"
   ]
  },
  {
   "cell_type": "code",
   "execution_count": null,
   "id": "9f20ea8a",
   "metadata": {},
   "outputs": [],
   "source": []
  }
 ],
 "metadata": {
  "kernelspec": {
   "display_name": "webgisbackend",
   "language": "python",
   "name": "python3"
  },
  "language_info": {
   "codemirror_mode": {
    "name": "ipython",
    "version": 3
   },
   "file_extension": ".py",
   "mimetype": "text/x-python",
   "name": "python",
   "nbconvert_exporter": "python",
   "pygments_lexer": "ipython3",
   "version": "3.13.5"
  }
 },
 "nbformat": 4,
 "nbformat_minor": 5
}
