{
 "cells": [
  {
   "cell_type": "markdown",
   "id": "29e816f0",
   "metadata": {},
   "source": [
    "# Vector Tiles"
   ]
  },
  {
   "cell_type": "code",
   "execution_count": 5,
   "id": "ecad6d17",
   "metadata": {},
   "outputs": [
    {
     "data": {
      "text/plain": [
       "'D:\\\\2. AREAS\\\\JUPYTER\\\\gdal-tools'"
      ]
     },
     "execution_count": 5,
     "metadata": {},
     "output_type": "execute_result"
    }
   ],
   "source": [
    "import os\n",
    "os.chdir(r\"D:\\2. AREAS\\JUPYTER\\gdal-tools\")\n",
    "os.getcwd()"
   ]
  },
  {
   "cell_type": "code",
   "execution_count": null,
   "id": "ba714f1c",
   "metadata": {},
   "outputs": [
    {
     "name": "stderr",
     "output_type": "stream",
     "text": [
      "ERROR 1: Layer bars_and_pubs_reprojected already exists, and -append not specified.\n",
      "        Consider using -append, or -overwrite.\n",
      "ERROR 1: Terminating translation prematurely after failed\n",
      "translation of layer bars_and_pubs (use -skipfailures to skip errors)\n"
     ]
    }
   ],
   "source": [
    "!ogr2ogr -t_srs EPSG:7855 spatial_query.gpkg spatial_query.gpkg bars_and_pubs -update -nln bars_and_pubs_reprojected"
   ]
  },
  {
   "cell_type": "code",
   "execution_count": 10,
   "id": "30b59adb",
   "metadata": {},
   "outputs": [],
   "source": [
    "!ogr2ogr -t_srs EPSG:7855 spatial_query.gpkg spatial_query.gpkg metro_stations -update -nln metro_stations_reprojected"
   ]
  },
  {
   "cell_type": "markdown",
   "id": "b1e983c9",
   "metadata": {},
   "source": [
    "###  Buffers"
   ]
  },
  {
   "cell_type": "code",
   "execution_count": 13,
   "id": "58fb8afb",
   "metadata": {},
   "outputs": [],
   "source": [
    "!ogr2ogr spatial_query.gpkg spatial_query.gpkg -update -nln metro_stations_buffer -sql \"SELECT m.station, ST_BUFFER(m.geom, 500) as geom FROM  metro_stations_reprojected m\" -dialect SQLITE"
   ]
  },
  {
   "cell_type": "markdown",
   "id": "f5564458",
   "metadata": {},
   "source": [
    "### More Queries"
   ]
  },
  {
   "cell_type": "code",
   "execution_count": 18,
   "id": "b51bf490",
   "metadata": {},
   "outputs": [],
   "source": [
    "!ogr2ogr spatial_query.gpkg spatial_query.gpkg -update \\\n",
    "  -nln metro_stations_buffer_dissolved -sql \"SELECT ST_Union(d.geom) as geom \\\n",
    "  FROM (SELECT ST_Collect(buffer(m.geom, 500)) as geom \\\n",
    "  FROM metro_stations_reprojected m) as d\" -dialect SQLITE"
   ]
  },
  {
   "cell_type": "code",
   "execution_count": 19,
   "id": "8ae06ef7",
   "metadata": {},
   "outputs": [
    {
     "name": "stdout",
     "output_type": "stream",
     "text": [
      "0...10...20...30...40...50...60...70...80...90...100 - done.\n"
     ]
    },
    {
     "name": "stderr",
     "output_type": "stream",
     "text": [
      "Warning 6: Normalized/laundered field name: 'Census year' to 'Census yea'\n",
      "Warning 6: Normalized/laundered field name: 'Property ID' to 'Property I'\n",
      "Warning 6: Normalized/laundered field name: 'Base property ID' to 'Base prope'\n",
      "Warning 6: Normalized/laundered field name: 'Street address' to 'Street add'\n",
      "Warning 6: Normalized/laundered field name: 'CLUE small area' to 'CLUE small'\n",
      "Warning 6: Normalized/laundered field name: 'Trading name' to 'Trading na'\n",
      "Warning 6: Normalized/laundered field name: 'Number of patrons' to 'Number of'\n",
      "Warning 6: Normalized/laundered field name: 'x coordinate' to 'x coordina'\n",
      "Warning 6: Normalized/laundered field name: 'y coordinate' to 'y coordina'\n"
     ]
    }
   ],
   "source": [
    "!python %CONDA_PREFIX%\\Scripts\\ogr_layer_algebra.py CLIP \\\n",
    "  -input_ds spatial_query.gpkg \\\n",
    "  -input_lyr bars_and_pubs_reprojected \\\n",
    "  -method_ds spatial_query.gpkg \\\n",
    "  -method_lyr metro_stations_buffer_dissolved \\\n",
    "  -output_ds output.gpkg \\\n",
    "  -output_lyr select \\\n",
    "  -overwrite\n"
   ]
  },
  {
   "cell_type": "markdown",
   "id": "86afeb26",
   "metadata": {},
   "source": [
    "### Data Cleaning"
   ]
  },
  {
   "cell_type": "code",
   "execution_count": 22,
   "id": "8ca892be",
   "metadata": {},
   "outputs": [
    {
     "name": "stderr",
     "output_type": "stream",
     "text": [
      "ERROR 1: SQL Expression Parsing Error: syntax error, unexpected '(', expecting string or identifier or HIDDEN. Occurred around :\n",
      "SELECT t1.* FROM selected t1    JOIN (SELECT \"Property ID\", MAX(\"Census year\"\n",
      "                                     ^\n"
     ]
    }
   ],
   "source": [
    "!ogr2ogr -t_srs EPSG:4326 output.gpkg output.gpkg -update \\\n",
    "  -nln cleaned -sql \"SELECT t1.* FROM selected t1 \\\n",
    "  JOIN (SELECT \\\"Property ID\\\", MAX(\\\"Census year\\\") as year FROM selected \\\n",
    "  GROUP BY \\\"Property ID\\\") t2 ON t1.\\\"Property ID\\\" = t2.\\\"Property ID\\\" \\\n",
    "  AND t1.\\\"Census year\\\" = t2.year\""
   ]
  },
  {
   "cell_type": "code",
   "execution_count": null,
   "id": "a08b45f3",
   "metadata": {},
   "outputs": [],
   "source": []
  }
 ],
 "metadata": {
  "kernelspec": {
   "display_name": "webgisbackend",
   "language": "python",
   "name": "python3"
  },
  "language_info": {
   "codemirror_mode": {
    "name": "ipython",
    "version": 3
   },
   "file_extension": ".py",
   "mimetype": "text/x-python",
   "name": "python",
   "nbconvert_exporter": "python",
   "pygments_lexer": "ipython3",
   "version": "3.13.5"
  }
 },
 "nbformat": 4,
 "nbformat_minor": 5
}
